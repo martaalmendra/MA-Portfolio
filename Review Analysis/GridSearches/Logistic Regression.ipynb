{
 "cells": [
  {
   "cell_type": "code",
   "execution_count": 8,
   "metadata": {
    "colab": {
     "base_uri": "https://localhost:8080/"
    },
    "executionInfo": {
     "elapsed": 209,
     "status": "ok",
     "timestamp": 1734716643902,
     "user": {
      "displayName": "Teresa Simão",
      "userId": "13030875093447155013"
     },
     "user_tz": 0
    },
    "id": "fOw17ZaNOCM5",
    "outputId": "b02f4e44-fc57-42ee-fc15-24822b4b9159"
   },
   "outputs": [
    {
     "name": "stdout",
     "output_type": "stream",
     "text": [
      "The autoreload extension is already loaded. To reload it, use:\n",
      "  %reload_ext autoreload\n"
     ]
    }
   ],
   "source": [
    "#General Purpose\n",
    "import pandas as pd\n",
    "import numpy as np\n",
    "import re\n",
    "import string\n",
    "import spacy\n",
    "import random\n",
    "from sklearn.feature_extraction.text import CountVectorizer, TfidfVectorizer\n",
    "\n",
    "\n",
    "#Classification and Metrics\n",
    "from sklearn.model_selection import GridSearchCV, train_test_split, PredefinedSplit\n",
    "from sklearn.preprocessing import MultiLabelBinarizer\n",
    "from sklearn.multioutput import ClassifierChain\n",
    "from sklearn.linear_model import LogisticRegression\n",
    "from sklearn.pipeline import Pipeline\n",
    "from sklearn.ensemble import RandomForestClassifier\n",
    "from sklearn.tree import DecisionTreeClassifier\n",
    "from sklearn.multiclass import OneVsRestClassifier\n",
    "from sklearn.metrics import classification_report, f1_score\n",
    "from sklearn.base import BaseEstimator, TransformerMixin\n",
    "from gensim.models.doc2vec import TaggedDocument\n",
    "\n",
    "\n",
    "from sklearn import metrics\n",
    "\n",
    "%load_ext autoreload\n",
    "%autoreload 2\n",
    "import warnings\n",
    "warnings.filterwarnings('ignore')"
   ]
  },
  {
   "cell_type": "code",
   "execution_count": 9,
   "metadata": {
    "executionInfo": {
     "elapsed": 470,
     "status": "ok",
     "timestamp": 1734716644721,
     "user": {
      "displayName": "Teresa Simão",
      "userId": "13030875093447155013"
     },
     "user_tz": 0
    },
    "id": "hSJFor-UNNhg"
   },
   "outputs": [],
   "source": [
    "clean_reviews = pd.read_csv('/content/drive/MyDrive/modelling/clean_reviews_dataset.csv')"
   ]
  },
  {
   "cell_type": "code",
   "execution_count": 10,
   "metadata": {
    "executionInfo": {
     "elapsed": 3,
     "status": "ok",
     "timestamp": 1734716644722,
     "user": {
      "displayName": "Teresa Simão",
      "userId": "13030875093447155013"
     },
     "user_tz": 0
    },
    "id": "aJDatevqjuZl"
   },
   "outputs": [],
   "source": [
    "clean_reviews = clean_reviews.dropna(subset=['cleaned_reviews_reduced_words'])\n",
    "clean_reviews = clean_reviews[clean_reviews['cleaned_reviews_reduced_words'].apply(lambda x: len(str(x)) > 0)]"
   ]
  },
  {
   "cell_type": "code",
   "execution_count": 11,
   "metadata": {
    "executionInfo": {
     "elapsed": 221,
     "status": "ok",
     "timestamp": 1734716645603,
     "user": {
      "displayName": "Teresa Simão",
      "userId": "13030875093447155013"
     },
     "user_tz": 0
    },
    "id": "BQS5sYENN7Bf"
   },
   "outputs": [],
   "source": [
    "mlb = MultiLabelBinarizer()\n",
    "binarised_labels = mlb.fit_transform(clean_reviews['Cuisines'])\n",
    "clean_reviews['labels'] = binarised_labels.tolist()"
   ]
  },
  {
   "cell_type": "code",
   "execution_count": 12,
   "metadata": {
    "executionInfo": {
     "elapsed": 919,
     "status": "ok",
     "timestamp": 1734716647230,
     "user": {
      "displayName": "Teresa Simão",
      "userId": "13030875093447155013"
     },
     "user_tz": 0
    },
    "id": "yKibsTNgONAG"
   },
   "outputs": [],
   "source": [
    "X_train, X_test, y_train, y_test = train_test_split(\n",
    "    clean_reviews['cleaned_reviews_reduced_words'], binarised_labels, test_size=0.2, random_state=42, stratify=binarised_labels)\n",
    "\n",
    "X_train = np.array([str(x) for x in X_train])"
   ]
  },
  {
   "cell_type": "code",
   "execution_count": 13,
   "metadata": {
    "executionInfo": {
     "elapsed": 193,
     "status": "ok",
     "timestamp": 1734716649471,
     "user": {
      "displayName": "Teresa Simão",
      "userId": "13030875093447155013"
     },
     "user_tz": 0
    },
    "id": "wm5O6TWWKGre"
   },
   "outputs": [],
   "source": [
    "X_train, X_val, y_train, y_val = train_test_split(X_train, y_train, test_size=0.25, random_state=42)"
   ]
  },
  {
   "cell_type": "code",
   "execution_count": 14,
   "metadata": {
    "executionInfo": {
     "elapsed": 217,
     "status": "ok",
     "timestamp": 1734716650939,
     "user": {
      "displayName": "Teresa Simão",
      "userId": "13030875093447155013"
     },
     "user_tz": 0
    },
    "id": "JZcj3lgaKGmb"
   },
   "outputs": [],
   "source": [
    "X_train_full = np.concatenate((X_train, X_val), axis=0)\n",
    "y_train_full = np.concatenate((y_train, y_val), axis=0)\n",
    "\n",
    "split_index = [-1] * len(X_train) + [0] * len(X_val)\n",
    "predefined_split = PredefinedSplit(test_fold=split_index)"
   ]
  },
  {
   "cell_type": "code",
   "execution_count": 15,
   "metadata": {
    "executionInfo": {
     "elapsed": 189,
     "status": "ok",
     "timestamp": 1734716652593,
     "user": {
      "displayName": "Teresa Simão",
      "userId": "13030875093447155013"
     },
     "user_tz": 0
    },
    "id": "ZUHWa5_CPO18"
   },
   "outputs": [],
   "source": [
    "bigram_tfidf_vectorizer = TfidfVectorizer(ngram_range=(1,1), token_pattern=r\"(?u)\\b\\w+\\b\")\n",
    "bigram_bow_vectorizer = CountVectorizer(ngram_range=(1,1), token_pattern=r\"(?u)\\b\\w+\\b\")"
   ]
  },
  {
   "cell_type": "code",
   "execution_count": 16,
   "metadata": {
    "executionInfo": {
     "elapsed": 301,
     "status": "ok",
     "timestamp": 1734716653169,
     "user": {
      "displayName": "Teresa Simão",
      "userId": "13030875093447155013"
     },
     "user_tz": 0
    },
    "id": "3kswi2AHPcAf"
   },
   "outputs": [],
   "source": [
    "scores = [\"accuracy\", \"precision_weighted\", \"recall_weighted\", \"f1_weighted\"]"
   ]
  },
  {
   "cell_type": "markdown",
   "metadata": {
    "id": "SCEoYSY3h8V9"
   },
   "source": [
    "#### One Vs Rest"
   ]
  },
  {
   "cell_type": "code",
   "execution_count": 25,
   "metadata": {
    "colab": {
     "base_uri": "https://localhost:8080/"
    },
    "collapsed": true,
    "executionInfo": {
     "elapsed": 2458644,
     "status": "ok",
     "timestamp": 1734719401665,
     "user": {
      "displayName": "Teresa Simão",
      "userId": "13030875093447155013"
     },
     "user_tz": 0
    },
    "id": "avb56B_aQ_rQ",
    "outputId": "e076d88c-c768-49e7-d207-e35ea530295e"
   },
   "outputs": [
    {
     "name": "stdout",
     "output_type": "stream",
     "text": [
      "Fitting 1 folds for each of 192 candidates, totalling 192 fits\n",
      "[CV 1/1] END classifier__estimator__C=0.1, classifier__estimator__class_weight=None, classifier__estimator__fit_intercept=True, classifier__estimator__max_iter=100, classifier__estimator__penalty=None, classifier__estimator__solver=saga, classifier__estimator__tol=0.0001, vectorizer=TfidfVectorizer(token_pattern='(?u)\\\\b\\\\w+\\\\b'); accuracy: (test=0.136) f1_weighted: (test=0.855) precision_weighted: (test=0.859) recall_weighted: (test=0.855) total time=  20.6s\n",
      "[CV 1/1] END classifier__estimator__C=0.1, classifier__estimator__class_weight=None, classifier__estimator__fit_intercept=True, classifier__estimator__max_iter=100, classifier__estimator__penalty=None, classifier__estimator__solver=saga, classifier__estimator__tol=0.0001, vectorizer=CountVectorizer(token_pattern='(?u)\\\\b\\\\w+\\\\b'); accuracy: (test=0.156) f1_weighted: (test=0.858) precision_weighted: (test=0.870) recall_weighted: (test=0.867) total time=  21.3s\n",
      "[CV 1/1] END classifier__estimator__C=0.1, classifier__estimator__class_weight=None, classifier__estimator__fit_intercept=True, classifier__estimator__max_iter=100, classifier__estimator__penalty=None, classifier__estimator__solver=lbfgs, classifier__estimator__tol=0.0001, vectorizer=TfidfVectorizer(token_pattern='(?u)\\\\b\\\\w+\\\\b'); accuracy: (test=0.131) f1_weighted: (test=0.850) precision_weighted: (test=0.856) recall_weighted: (test=0.846) total time=  10.9s\n",
      "[CV 1/1] END classifier__estimator__C=0.1, classifier__estimator__class_weight=None, classifier__estimator__fit_intercept=True, classifier__estimator__max_iter=100, classifier__estimator__penalty=None, classifier__estimator__solver=lbfgs, classifier__estimator__tol=0.0001, vectorizer=CountVectorizer(token_pattern='(?u)\\\\b\\\\w+\\\\b'); accuracy: (test=0.106) f1_weighted: (test=0.842) precision_weighted: (test=0.845) recall_weighted: (test=0.840) total time=   4.9s\n",
      "[CV 1/1] END classifier__estimator__C=0.1, classifier__estimator__class_weight=None, classifier__estimator__fit_intercept=True, classifier__estimator__max_iter=100, classifier__estimator__penalty=l2, classifier__estimator__solver=saga, classifier__estimator__tol=0.0001, vectorizer=TfidfVectorizer(token_pattern='(?u)\\\\b\\\\w+\\\\b'); accuracy: (test=0.051) f1_weighted: (test=0.761) precision_weighted: (test=0.770) recall_weighted: (test=0.824) total time=   6.5s\n",
      "[CV 1/1] END classifier__estimator__C=0.1, classifier__estimator__class_weight=None, classifier__estimator__fit_intercept=True, classifier__estimator__max_iter=100, classifier__estimator__penalty=l2, classifier__estimator__solver=saga, classifier__estimator__tol=0.0001, vectorizer=CountVectorizer(token_pattern='(?u)\\\\b\\\\w+\\\\b'); accuracy: (test=0.132) f1_weighted: (test=0.844) precision_weighted: (test=0.873) recall_weighted: (test=0.860) total time=  19.6s\n",
      "[CV 1/1] END classifier__estimator__C=0.1, classifier__estimator__class_weight=None, classifier__estimator__fit_intercept=True, classifier__estimator__max_iter=100, classifier__estimator__penalty=l2, classifier__estimator__solver=lbfgs, classifier__estimator__tol=0.0001, vectorizer=TfidfVectorizer(token_pattern='(?u)\\\\b\\\\w+\\\\b'); accuracy: (test=0.051) f1_weighted: (test=0.761) precision_weighted: (test=0.770) recall_weighted: (test=0.824) total time=   1.5s\n",
      "[CV 1/1] END classifier__estimator__C=0.1, classifier__estimator__class_weight=None, classifier__estimator__fit_intercept=True, classifier__estimator__max_iter=100, classifier__estimator__penalty=l2, classifier__estimator__solver=lbfgs, classifier__estimator__tol=0.0001, vectorizer=CountVectorizer(token_pattern='(?u)\\\\b\\\\w+\\\\b'); accuracy: (test=0.122) f1_weighted: (test=0.837) precision_weighted: (test=0.867) recall_weighted: (test=0.856) total time=   2.2s\n",
      "[CV 1/1] END classifier__estimator__C=0.1, classifier__estimator__class_weight=None, classifier__estimator__fit_intercept=True, classifier__estimator__max_iter=200, classifier__estimator__penalty=None, classifier__estimator__solver=saga, classifier__estimator__tol=0.0001, vectorizer=TfidfVectorizer(token_pattern='(?u)\\\\b\\\\w+\\\\b'); accuracy: (test=0.123) f1_weighted: (test=0.851) precision_weighted: (test=0.855) recall_weighted: (test=0.850) total time=  32.4s\n",
      "[CV 1/1] END classifier__estimator__C=0.1, classifier__estimator__class_weight=None, classifier__estimator__fit_intercept=True, classifier__estimator__max_iter=200, classifier__estimator__penalty=None, classifier__estimator__solver=saga, classifier__estimator__tol=0.0001, vectorizer=CountVectorizer(token_pattern='(?u)\\\\b\\\\w+\\\\b'); accuracy: (test=0.150) f1_weighted: (test=0.860) precision_weighted: (test=0.869) recall_weighted: (test=0.867) total time=  33.3s\n",
      "[CV 1/1] END classifier__estimator__C=0.1, classifier__estimator__class_weight=None, classifier__estimator__fit_intercept=True, classifier__estimator__max_iter=200, classifier__estimator__penalty=None, classifier__estimator__solver=lbfgs, classifier__estimator__tol=0.0001, vectorizer=TfidfVectorizer(token_pattern='(?u)\\\\b\\\\w+\\\\b'); accuracy: (test=0.130) f1_weighted: (test=0.850) precision_weighted: (test=0.855) recall_weighted: (test=0.846) total time=   7.0s\n",
      "[CV 1/1] END classifier__estimator__C=0.1, classifier__estimator__class_weight=None, classifier__estimator__fit_intercept=True, classifier__estimator__max_iter=200, classifier__estimator__penalty=None, classifier__estimator__solver=lbfgs, classifier__estimator__tol=0.0001, vectorizer=CountVectorizer(token_pattern='(?u)\\\\b\\\\w+\\\\b'); accuracy: (test=0.105) f1_weighted: (test=0.842) precision_weighted: (test=0.845) recall_weighted: (test=0.840) total time=   5.0s\n",
      "[CV 1/1] END classifier__estimator__C=0.1, classifier__estimator__class_weight=None, classifier__estimator__fit_intercept=True, classifier__estimator__max_iter=200, classifier__estimator__penalty=l2, classifier__estimator__solver=saga, classifier__estimator__tol=0.0001, vectorizer=TfidfVectorizer(token_pattern='(?u)\\\\b\\\\w+\\\\b'); accuracy: (test=0.051) f1_weighted: (test=0.761) precision_weighted: (test=0.770) recall_weighted: (test=0.824) total time=   8.4s\n",
      "[CV 1/1] END classifier__estimator__C=0.1, classifier__estimator__class_weight=None, classifier__estimator__fit_intercept=True, classifier__estimator__max_iter=200, classifier__estimator__penalty=l2, classifier__estimator__solver=saga, classifier__estimator__tol=0.0001, vectorizer=CountVectorizer(token_pattern='(?u)\\\\b\\\\w+\\\\b'); accuracy: (test=0.130) f1_weighted: (test=0.843) precision_weighted: (test=0.874) recall_weighted: (test=0.860) total time=  34.0s\n",
      "[CV 1/1] END classifier__estimator__C=0.1, classifier__estimator__class_weight=None, classifier__estimator__fit_intercept=True, classifier__estimator__max_iter=200, classifier__estimator__penalty=l2, classifier__estimator__solver=lbfgs, classifier__estimator__tol=0.0001, vectorizer=TfidfVectorizer(token_pattern='(?u)\\\\b\\\\w+\\\\b'); accuracy: (test=0.051) f1_weighted: (test=0.761) precision_weighted: (test=0.770) recall_weighted: (test=0.824) total time=   1.7s\n",
      "[CV 1/1] END classifier__estimator__C=0.1, classifier__estimator__class_weight=None, classifier__estimator__fit_intercept=True, classifier__estimator__max_iter=200, classifier__estimator__penalty=l2, classifier__estimator__solver=lbfgs, classifier__estimator__tol=0.0001, vectorizer=CountVectorizer(token_pattern='(?u)\\\\b\\\\w+\\\\b'); accuracy: (test=0.122) f1_weighted: (test=0.837) precision_weighted: (test=0.867) recall_weighted: (test=0.856) total time=   2.2s\n",
      "[CV 1/1] END classifier__estimator__C=0.1, classifier__estimator__class_weight=None, classifier__estimator__fit_intercept=False, classifier__estimator__max_iter=100, classifier__estimator__penalty=None, classifier__estimator__solver=saga, classifier__estimator__tol=0.0001, vectorizer=TfidfVectorizer(token_pattern='(?u)\\\\b\\\\w+\\\\b'); accuracy: (test=0.118) f1_weighted: (test=0.847) precision_weighted: (test=0.848) recall_weighted: (test=0.847) total time=  15.1s\n",
      "[CV 1/1] END classifier__estimator__C=0.1, classifier__estimator__class_weight=None, classifier__estimator__fit_intercept=False, classifier__estimator__max_iter=100, classifier__estimator__penalty=None, classifier__estimator__solver=saga, classifier__estimator__tol=0.0001, vectorizer=CountVectorizer(token_pattern='(?u)\\\\b\\\\w+\\\\b'); accuracy: (test=0.136) f1_weighted: (test=0.852) precision_weighted: (test=0.853) recall_weighted: (test=0.858) total time=  16.8s\n",
      "[CV 1/1] END classifier__estimator__C=0.1, classifier__estimator__class_weight=None, classifier__estimator__fit_intercept=False, classifier__estimator__max_iter=100, classifier__estimator__penalty=None, classifier__estimator__solver=lbfgs, classifier__estimator__tol=0.0001, vectorizer=TfidfVectorizer(token_pattern='(?u)\\\\b\\\\w+\\\\b'); accuracy: (test=0.133) f1_weighted: (test=0.848) precision_weighted: (test=0.850) recall_weighted: (test=0.846) total time=   2.7s\n",
      "[CV 1/1] END classifier__estimator__C=0.1, classifier__estimator__class_weight=None, classifier__estimator__fit_intercept=False, classifier__estimator__max_iter=100, classifier__estimator__penalty=None, classifier__estimator__solver=lbfgs, classifier__estimator__tol=0.0001, vectorizer=CountVectorizer(token_pattern='(?u)\\\\b\\\\w+\\\\b'); accuracy: (test=0.103) f1_weighted: (test=0.840) precision_weighted: (test=0.842) recall_weighted: (test=0.839) total time=   5.2s\n",
      "[CV 1/1] END classifier__estimator__C=0.1, classifier__estimator__class_weight=None, classifier__estimator__fit_intercept=False, classifier__estimator__max_iter=100, classifier__estimator__penalty=l2, classifier__estimator__solver=saga, classifier__estimator__tol=0.0001, vectorizer=TfidfVectorizer(token_pattern='(?u)\\\\b\\\\w+\\\\b'); accuracy: (test=0.066) f1_weighted: (test=0.785) precision_weighted: (test=0.831) recall_weighted: (test=0.831) total time=   2.9s\n",
      "[CV 1/1] END classifier__estimator__C=0.1, classifier__estimator__class_weight=None, classifier__estimator__fit_intercept=False, classifier__estimator__max_iter=100, classifier__estimator__penalty=l2, classifier__estimator__solver=saga, classifier__estimator__tol=0.0001, vectorizer=CountVectorizer(token_pattern='(?u)\\\\b\\\\w+\\\\b'); accuracy: (test=0.124) f1_weighted: (test=0.845) precision_weighted: (test=0.851) recall_weighted: (test=0.856) total time=  15.4s\n",
      "[CV 1/1] END classifier__estimator__C=0.1, classifier__estimator__class_weight=None, classifier__estimator__fit_intercept=False, classifier__estimator__max_iter=100, classifier__estimator__penalty=l2, classifier__estimator__solver=lbfgs, classifier__estimator__tol=0.0001, vectorizer=TfidfVectorizer(token_pattern='(?u)\\\\b\\\\w+\\\\b'); accuracy: (test=0.066) f1_weighted: (test=0.785) precision_weighted: (test=0.832) recall_weighted: (test=0.831) total time=   0.9s\n",
      "[CV 1/1] END classifier__estimator__C=0.1, classifier__estimator__class_weight=None, classifier__estimator__fit_intercept=False, classifier__estimator__max_iter=100, classifier__estimator__penalty=l2, classifier__estimator__solver=lbfgs, classifier__estimator__tol=0.0001, vectorizer=CountVectorizer(token_pattern='(?u)\\\\b\\\\w+\\\\b'); accuracy: (test=0.123) f1_weighted: (test=0.846) precision_weighted: (test=0.853) recall_weighted: (test=0.857) total time=   2.1s\n",
      "[CV 1/1] END classifier__estimator__C=0.1, classifier__estimator__class_weight=None, classifier__estimator__fit_intercept=False, classifier__estimator__max_iter=200, classifier__estimator__penalty=None, classifier__estimator__solver=saga, classifier__estimator__tol=0.0001, vectorizer=TfidfVectorizer(token_pattern='(?u)\\\\b\\\\w+\\\\b'); accuracy: (test=0.107) f1_weighted: (test=0.844) precision_weighted: (test=0.845) recall_weighted: (test=0.844) total time=  31.1s\n",
      "[CV 1/1] END classifier__estimator__C=0.1, classifier__estimator__class_weight=None, classifier__estimator__fit_intercept=False, classifier__estimator__max_iter=200, classifier__estimator__penalty=None, classifier__estimator__solver=saga, classifier__estimator__tol=0.0001, vectorizer=CountVectorizer(token_pattern='(?u)\\\\b\\\\w+\\\\b'); accuracy: (test=0.133) f1_weighted: (test=0.854) precision_weighted: (test=0.854) recall_weighted: (test=0.859) total time=  36.0s\n",
      "[CV 1/1] END classifier__estimator__C=0.1, classifier__estimator__class_weight=None, classifier__estimator__fit_intercept=False, classifier__estimator__max_iter=200, classifier__estimator__penalty=None, classifier__estimator__solver=lbfgs, classifier__estimator__tol=0.0001, vectorizer=TfidfVectorizer(token_pattern='(?u)\\\\b\\\\w+\\\\b'); accuracy: (test=0.133) f1_weighted: (test=0.848) precision_weighted: (test=0.850) recall_weighted: (test=0.846) total time=   3.5s\n",
      "[CV 1/1] END classifier__estimator__C=0.1, classifier__estimator__class_weight=None, classifier__estimator__fit_intercept=False, classifier__estimator__max_iter=200, classifier__estimator__penalty=None, classifier__estimator__solver=lbfgs, classifier__estimator__tol=0.0001, vectorizer=CountVectorizer(token_pattern='(?u)\\\\b\\\\w+\\\\b'); accuracy: (test=0.103) f1_weighted: (test=0.840) precision_weighted: (test=0.842) recall_weighted: (test=0.839) total time=   4.0s\n",
      "[CV 1/1] END classifier__estimator__C=0.1, classifier__estimator__class_weight=None, classifier__estimator__fit_intercept=False, classifier__estimator__max_iter=200, classifier__estimator__penalty=l2, classifier__estimator__solver=saga, classifier__estimator__tol=0.0001, vectorizer=TfidfVectorizer(token_pattern='(?u)\\\\b\\\\w+\\\\b'); accuracy: (test=0.066) f1_weighted: (test=0.785) precision_weighted: (test=0.831) recall_weighted: (test=0.831) total time=   2.9s\n",
      "[CV 1/1] END classifier__estimator__C=0.1, classifier__estimator__class_weight=None, classifier__estimator__fit_intercept=False, classifier__estimator__max_iter=200, classifier__estimator__penalty=l2, classifier__estimator__solver=saga, classifier__estimator__tol=0.0001, vectorizer=CountVectorizer(token_pattern='(?u)\\\\b\\\\w+\\\\b'); accuracy: (test=0.123) f1_weighted: (test=0.846) precision_weighted: (test=0.852) recall_weighted: (test=0.857) total time=  30.6s\n",
      "[CV 1/1] END classifier__estimator__C=0.1, classifier__estimator__class_weight=None, classifier__estimator__fit_intercept=False, classifier__estimator__max_iter=200, classifier__estimator__penalty=l2, classifier__estimator__solver=lbfgs, classifier__estimator__tol=0.0001, vectorizer=TfidfVectorizer(token_pattern='(?u)\\\\b\\\\w+\\\\b'); accuracy: (test=0.066) f1_weighted: (test=0.785) precision_weighted: (test=0.832) recall_weighted: (test=0.831) total time=   0.9s\n",
      "[CV 1/1] END classifier__estimator__C=0.1, classifier__estimator__class_weight=None, classifier__estimator__fit_intercept=False, classifier__estimator__max_iter=200, classifier__estimator__penalty=l2, classifier__estimator__solver=lbfgs, classifier__estimator__tol=0.0001, vectorizer=CountVectorizer(token_pattern='(?u)\\\\b\\\\w+\\\\b'); accuracy: (test=0.123) f1_weighted: (test=0.846) precision_weighted: (test=0.853) recall_weighted: (test=0.857) total time=   2.6s\n",
      "[CV 1/1] END classifier__estimator__C=0.1, classifier__estimator__class_weight=balanced, classifier__estimator__fit_intercept=True, classifier__estimator__max_iter=100, classifier__estimator__penalty=None, classifier__estimator__solver=saga, classifier__estimator__tol=0.0001, vectorizer=TfidfVectorizer(token_pattern='(?u)\\\\b\\\\w+\\\\b'); accuracy: (test=0.099) f1_weighted: (test=0.842) precision_weighted: (test=0.848) recall_weighted: (test=0.838) total time=  18.8s\n",
      "[CV 1/1] END classifier__estimator__C=0.1, classifier__estimator__class_weight=balanced, classifier__estimator__fit_intercept=True, classifier__estimator__max_iter=100, classifier__estimator__penalty=None, classifier__estimator__solver=saga, classifier__estimator__tol=0.0001, vectorizer=CountVectorizer(token_pattern='(?u)\\\\b\\\\w+\\\\b'); accuracy: (test=0.080) f1_weighted: (test=0.842) precision_weighted: (test=0.849) recall_weighted: (test=0.841) total time=  15.8s\n",
      "[CV 1/1] END classifier__estimator__C=0.1, classifier__estimator__class_weight=balanced, classifier__estimator__fit_intercept=True, classifier__estimator__max_iter=100, classifier__estimator__penalty=None, classifier__estimator__solver=lbfgs, classifier__estimator__tol=0.0001, vectorizer=TfidfVectorizer(token_pattern='(?u)\\\\b\\\\w+\\\\b'); accuracy: (test=0.118) f1_weighted: (test=0.839) precision_weighted: (test=0.848) recall_weighted: (test=0.833) total time=   6.0s\n",
      "[CV 1/1] END classifier__estimator__C=0.1, classifier__estimator__class_weight=balanced, classifier__estimator__fit_intercept=True, classifier__estimator__max_iter=100, classifier__estimator__penalty=None, classifier__estimator__solver=lbfgs, classifier__estimator__tol=0.0001, vectorizer=CountVectorizer(token_pattern='(?u)\\\\b\\\\w+\\\\b'); accuracy: (test=0.094) f1_weighted: (test=0.832) precision_weighted: (test=0.838) recall_weighted: (test=0.827) total time=   9.5s\n",
      "[CV 1/1] END classifier__estimator__C=0.1, classifier__estimator__class_weight=balanced, classifier__estimator__fit_intercept=True, classifier__estimator__max_iter=100, classifier__estimator__penalty=l2, classifier__estimator__solver=saga, classifier__estimator__tol=0.0001, vectorizer=TfidfVectorizer(token_pattern='(?u)\\\\b\\\\w+\\\\b'); accuracy: (test=0.000) f1_weighted: (test=0.823) precision_weighted: (test=0.847) recall_weighted: (test=0.821) total time=   7.3s\n",
      "[CV 1/1] END classifier__estimator__C=0.1, classifier__estimator__class_weight=balanced, classifier__estimator__fit_intercept=True, classifier__estimator__max_iter=100, classifier__estimator__penalty=l2, classifier__estimator__solver=saga, classifier__estimator__tol=0.0001, vectorizer=CountVectorizer(token_pattern='(?u)\\\\b\\\\w+\\\\b'); accuracy: (test=0.064) f1_weighted: (test=0.840) precision_weighted: (test=0.848) recall_weighted: (test=0.840) total time=  15.8s\n",
      "[CV 1/1] END classifier__estimator__C=0.1, classifier__estimator__class_weight=balanced, classifier__estimator__fit_intercept=True, classifier__estimator__max_iter=100, classifier__estimator__penalty=l2, classifier__estimator__solver=lbfgs, classifier__estimator__tol=0.0001, vectorizer=TfidfVectorizer(token_pattern='(?u)\\\\b\\\\w+\\\\b'); accuracy: (test=0.062) f1_weighted: (test=0.844) precision_weighted: (test=0.846) recall_weighted: (test=0.850) total time=   1.4s\n",
      "[CV 1/1] END classifier__estimator__C=0.1, classifier__estimator__class_weight=balanced, classifier__estimator__fit_intercept=True, classifier__estimator__max_iter=100, classifier__estimator__penalty=l2, classifier__estimator__solver=lbfgs, classifier__estimator__tol=0.0001, vectorizer=CountVectorizer(token_pattern='(?u)\\\\b\\\\w+\\\\b'); accuracy: (test=0.069) f1_weighted: (test=0.845) precision_weighted: (test=0.851) recall_weighted: (test=0.845) total time=   5.6s\n",
      "[CV 1/1] END classifier__estimator__C=0.1, classifier__estimator__class_weight=balanced, classifier__estimator__fit_intercept=True, classifier__estimator__max_iter=200, classifier__estimator__penalty=None, classifier__estimator__solver=saga, classifier__estimator__tol=0.0001, vectorizer=TfidfVectorizer(token_pattern='(?u)\\\\b\\\\w+\\\\b'); accuracy: (test=0.094) f1_weighted: (test=0.838) precision_weighted: (test=0.844) recall_weighted: (test=0.834) total time=  31.9s\n",
      "[CV 1/1] END classifier__estimator__C=0.1, classifier__estimator__class_weight=balanced, classifier__estimator__fit_intercept=True, classifier__estimator__max_iter=200, classifier__estimator__penalty=None, classifier__estimator__solver=saga, classifier__estimator__tol=0.0001, vectorizer=CountVectorizer(token_pattern='(?u)\\\\b\\\\w+\\\\b'); accuracy: (test=0.089) f1_weighted: (test=0.844) precision_weighted: (test=0.849) recall_weighted: (test=0.842) total time=  31.9s\n",
      "[CV 1/1] END classifier__estimator__C=0.1, classifier__estimator__class_weight=balanced, classifier__estimator__fit_intercept=True, classifier__estimator__max_iter=200, classifier__estimator__penalty=None, classifier__estimator__solver=lbfgs, classifier__estimator__tol=0.0001, vectorizer=TfidfVectorizer(token_pattern='(?u)\\\\b\\\\w+\\\\b'); accuracy: (test=0.114) f1_weighted: (test=0.839) precision_weighted: (test=0.847) recall_weighted: (test=0.834) total time=   6.2s\n",
      "[CV 1/1] END classifier__estimator__C=0.1, classifier__estimator__class_weight=balanced, classifier__estimator__fit_intercept=True, classifier__estimator__max_iter=200, classifier__estimator__penalty=None, classifier__estimator__solver=lbfgs, classifier__estimator__tol=0.0001, vectorizer=CountVectorizer(token_pattern='(?u)\\\\b\\\\w+\\\\b'); accuracy: (test=0.094) f1_weighted: (test=0.832) precision_weighted: (test=0.838) recall_weighted: (test=0.827) total time=   7.6s\n",
      "[CV 1/1] END classifier__estimator__C=0.1, classifier__estimator__class_weight=balanced, classifier__estimator__fit_intercept=True, classifier__estimator__max_iter=200, classifier__estimator__penalty=l2, classifier__estimator__solver=saga, classifier__estimator__tol=0.0001, vectorizer=TfidfVectorizer(token_pattern='(?u)\\\\b\\\\w+\\\\b'); accuracy: (test=0.008) f1_weighted: (test=0.841) precision_weighted: (test=0.842) recall_weighted: (test=0.850) total time=  13.8s\n",
      "[CV 1/1] END classifier__estimator__C=0.1, classifier__estimator__class_weight=balanced, classifier__estimator__fit_intercept=True, classifier__estimator__max_iter=200, classifier__estimator__penalty=l2, classifier__estimator__solver=saga, classifier__estimator__tol=0.0001, vectorizer=CountVectorizer(token_pattern='(?u)\\\\b\\\\w+\\\\b'); accuracy: (test=0.066) f1_weighted: (test=0.843) precision_weighted: (test=0.850) recall_weighted: (test=0.842) total time=  31.5s\n",
      "[CV 1/1] END classifier__estimator__C=0.1, classifier__estimator__class_weight=balanced, classifier__estimator__fit_intercept=True, classifier__estimator__max_iter=200, classifier__estimator__penalty=l2, classifier__estimator__solver=lbfgs, classifier__estimator__tol=0.0001, vectorizer=TfidfVectorizer(token_pattern='(?u)\\\\b\\\\w+\\\\b'); accuracy: (test=0.062) f1_weighted: (test=0.844) precision_weighted: (test=0.846) recall_weighted: (test=0.850) total time=   1.4s\n",
      "[CV 1/1] END classifier__estimator__C=0.1, classifier__estimator__class_weight=balanced, classifier__estimator__fit_intercept=True, classifier__estimator__max_iter=200, classifier__estimator__penalty=l2, classifier__estimator__solver=lbfgs, classifier__estimator__tol=0.0001, vectorizer=CountVectorizer(token_pattern='(?u)\\\\b\\\\w+\\\\b'); accuracy: (test=0.069) f1_weighted: (test=0.845) precision_weighted: (test=0.851) recall_weighted: (test=0.845) total time=   3.4s\n",
      "[CV 1/1] END classifier__estimator__C=0.1, classifier__estimator__class_weight=balanced, classifier__estimator__fit_intercept=False, classifier__estimator__max_iter=100, classifier__estimator__penalty=None, classifier__estimator__solver=saga, classifier__estimator__tol=0.0001, vectorizer=TfidfVectorizer(token_pattern='(?u)\\\\b\\\\w+\\\\b'); accuracy: (test=0.089) f1_weighted: (test=0.835) precision_weighted: (test=0.841) recall_weighted: (test=0.832) total time=  15.7s\n",
      "[CV 1/1] END classifier__estimator__C=0.1, classifier__estimator__class_weight=balanced, classifier__estimator__fit_intercept=False, classifier__estimator__max_iter=100, classifier__estimator__penalty=None, classifier__estimator__solver=saga, classifier__estimator__tol=0.0001, vectorizer=CountVectorizer(token_pattern='(?u)\\\\b\\\\w+\\\\b'); accuracy: (test=0.078) f1_weighted: (test=0.836) precision_weighted: (test=0.845) recall_weighted: (test=0.835) total time=  15.5s\n",
      "[CV 1/1] END classifier__estimator__C=0.1, classifier__estimator__class_weight=balanced, classifier__estimator__fit_intercept=False, classifier__estimator__max_iter=100, classifier__estimator__penalty=None, classifier__estimator__solver=lbfgs, classifier__estimator__tol=0.0001, vectorizer=TfidfVectorizer(token_pattern='(?u)\\\\b\\\\w+\\\\b'); accuracy: (test=0.117) f1_weighted: (test=0.839) precision_weighted: (test=0.843) recall_weighted: (test=0.835) total time=   5.3s\n",
      "[CV 1/1] END classifier__estimator__C=0.1, classifier__estimator__class_weight=balanced, classifier__estimator__fit_intercept=False, classifier__estimator__max_iter=100, classifier__estimator__penalty=None, classifier__estimator__solver=lbfgs, classifier__estimator__tol=0.0001, vectorizer=CountVectorizer(token_pattern='(?u)\\\\b\\\\w+\\\\b'); accuracy: (test=0.098) f1_weighted: (test=0.831) precision_weighted: (test=0.837) recall_weighted: (test=0.826) total time=   5.5s\n",
      "[CV 1/1] END classifier__estimator__C=0.1, classifier__estimator__class_weight=balanced, classifier__estimator__fit_intercept=False, classifier__estimator__max_iter=100, classifier__estimator__penalty=l2, classifier__estimator__solver=saga, classifier__estimator__tol=0.0001, vectorizer=TfidfVectorizer(token_pattern='(?u)\\\\b\\\\w+\\\\b'); accuracy: (test=0.004) f1_weighted: (test=0.821) precision_weighted: (test=0.836) recall_weighted: (test=0.831) total time=   6.1s\n",
      "[CV 1/1] END classifier__estimator__C=0.1, classifier__estimator__class_weight=balanced, classifier__estimator__fit_intercept=False, classifier__estimator__max_iter=100, classifier__estimator__penalty=l2, classifier__estimator__solver=saga, classifier__estimator__tol=0.0001, vectorizer=CountVectorizer(token_pattern='(?u)\\\\b\\\\w+\\\\b'); accuracy: (test=0.062) f1_weighted: (test=0.833) precision_weighted: (test=0.844) recall_weighted: (test=0.834) total time=  15.7s\n",
      "[CV 1/1] END classifier__estimator__C=0.1, classifier__estimator__class_weight=balanced, classifier__estimator__fit_intercept=False, classifier__estimator__max_iter=100, classifier__estimator__penalty=l2, classifier__estimator__solver=lbfgs, classifier__estimator__tol=0.0001, vectorizer=TfidfVectorizer(token_pattern='(?u)\\\\b\\\\w+\\\\b'); accuracy: (test=0.024) f1_weighted: (test=0.829) precision_weighted: (test=0.837) recall_weighted: (test=0.844) total time=   2.0s\n",
      "[CV 1/1] END classifier__estimator__C=0.1, classifier__estimator__class_weight=balanced, classifier__estimator__fit_intercept=False, classifier__estimator__max_iter=100, classifier__estimator__penalty=l2, classifier__estimator__solver=lbfgs, classifier__estimator__tol=0.0001, vectorizer=CountVectorizer(token_pattern='(?u)\\\\b\\\\w+\\\\b'); accuracy: (test=0.064) f1_weighted: (test=0.834) precision_weighted: (test=0.844) recall_weighted: (test=0.835) total time=   4.8s\n",
      "[CV 1/1] END classifier__estimator__C=0.1, classifier__estimator__class_weight=balanced, classifier__estimator__fit_intercept=False, classifier__estimator__max_iter=200, classifier__estimator__penalty=None, classifier__estimator__solver=saga, classifier__estimator__tol=0.0001, vectorizer=TfidfVectorizer(token_pattern='(?u)\\\\b\\\\w+\\\\b'); accuracy: (test=0.083) f1_weighted: (test=0.832) precision_weighted: (test=0.838) recall_weighted: (test=0.828) total time=  31.9s\n",
      "[CV 1/1] END classifier__estimator__C=0.1, classifier__estimator__class_weight=balanced, classifier__estimator__fit_intercept=False, classifier__estimator__max_iter=200, classifier__estimator__penalty=None, classifier__estimator__solver=saga, classifier__estimator__tol=0.0001, vectorizer=CountVectorizer(token_pattern='(?u)\\\\b\\\\w+\\\\b'); accuracy: (test=0.086) f1_weighted: (test=0.838) precision_weighted: (test=0.846) recall_weighted: (test=0.837) total time=  31.8s\n",
      "[CV 1/1] END classifier__estimator__C=0.1, classifier__estimator__class_weight=balanced, classifier__estimator__fit_intercept=False, classifier__estimator__max_iter=200, classifier__estimator__penalty=None, classifier__estimator__solver=lbfgs, classifier__estimator__tol=0.0001, vectorizer=TfidfVectorizer(token_pattern='(?u)\\\\b\\\\w+\\\\b'); accuracy: (test=0.117) f1_weighted: (test=0.839) precision_weighted: (test=0.843) recall_weighted: (test=0.835) total time=   3.4s\n",
      "[CV 1/1] END classifier__estimator__C=0.1, classifier__estimator__class_weight=balanced, classifier__estimator__fit_intercept=False, classifier__estimator__max_iter=200, classifier__estimator__penalty=None, classifier__estimator__solver=lbfgs, classifier__estimator__tol=0.0001, vectorizer=CountVectorizer(token_pattern='(?u)\\\\b\\\\w+\\\\b'); accuracy: (test=0.098) f1_weighted: (test=0.831) precision_weighted: (test=0.837) recall_weighted: (test=0.826) total time=   5.0s\n",
      "[CV 1/1] END classifier__estimator__C=0.1, classifier__estimator__class_weight=balanced, classifier__estimator__fit_intercept=False, classifier__estimator__max_iter=200, classifier__estimator__penalty=l2, classifier__estimator__solver=saga, classifier__estimator__tol=0.0001, vectorizer=TfidfVectorizer(token_pattern='(?u)\\\\b\\\\w+\\\\b'); accuracy: (test=0.002) f1_weighted: (test=0.824) precision_weighted: (test=0.836) recall_weighted: (test=0.835) total time=  10.7s\n",
      "[CV 1/1] END classifier__estimator__C=0.1, classifier__estimator__class_weight=balanced, classifier__estimator__fit_intercept=False, classifier__estimator__max_iter=200, classifier__estimator__penalty=l2, classifier__estimator__solver=saga, classifier__estimator__tol=0.0001, vectorizer=CountVectorizer(token_pattern='(?u)\\\\b\\\\w+\\\\b'); accuracy: (test=0.064) f1_weighted: (test=0.834) precision_weighted: (test=0.844) recall_weighted: (test=0.835) total time=  29.4s\n",
      "[CV 1/1] END classifier__estimator__C=0.1, classifier__estimator__class_weight=balanced, classifier__estimator__fit_intercept=False, classifier__estimator__max_iter=200, classifier__estimator__penalty=l2, classifier__estimator__solver=lbfgs, classifier__estimator__tol=0.0001, vectorizer=TfidfVectorizer(token_pattern='(?u)\\\\b\\\\w+\\\\b'); accuracy: (test=0.024) f1_weighted: (test=0.829) precision_weighted: (test=0.837) recall_weighted: (test=0.844) total time=   1.0s\n",
      "[CV 1/1] END classifier__estimator__C=0.1, classifier__estimator__class_weight=balanced, classifier__estimator__fit_intercept=False, classifier__estimator__max_iter=200, classifier__estimator__penalty=l2, classifier__estimator__solver=lbfgs, classifier__estimator__tol=0.0001, vectorizer=CountVectorizer(token_pattern='(?u)\\\\b\\\\w+\\\\b'); accuracy: (test=0.064) f1_weighted: (test=0.834) precision_weighted: (test=0.844) recall_weighted: (test=0.835) total time=   2.5s\n",
      "[CV 1/1] END classifier__estimator__C=1, classifier__estimator__class_weight=None, classifier__estimator__fit_intercept=True, classifier__estimator__max_iter=100, classifier__estimator__penalty=None, classifier__estimator__solver=saga, classifier__estimator__tol=0.0001, vectorizer=TfidfVectorizer(token_pattern='(?u)\\\\b\\\\w+\\\\b'); accuracy: (test=0.136) f1_weighted: (test=0.855) precision_weighted: (test=0.859) recall_weighted: (test=0.855) total time=  16.6s\n",
      "[CV 1/1] END classifier__estimator__C=1, classifier__estimator__class_weight=None, classifier__estimator__fit_intercept=True, classifier__estimator__max_iter=100, classifier__estimator__penalty=None, classifier__estimator__solver=saga, classifier__estimator__tol=0.0001, vectorizer=CountVectorizer(token_pattern='(?u)\\\\b\\\\w+\\\\b'); accuracy: (test=0.156) f1_weighted: (test=0.858) precision_weighted: (test=0.870) recall_weighted: (test=0.867) total time=  16.5s\n",
      "[CV 1/1] END classifier__estimator__C=1, classifier__estimator__class_weight=None, classifier__estimator__fit_intercept=True, classifier__estimator__max_iter=100, classifier__estimator__penalty=None, classifier__estimator__solver=lbfgs, classifier__estimator__tol=0.0001, vectorizer=TfidfVectorizer(token_pattern='(?u)\\\\b\\\\w+\\\\b'); accuracy: (test=0.131) f1_weighted: (test=0.850) precision_weighted: (test=0.856) recall_weighted: (test=0.846) total time=   6.5s\n",
      "[CV 1/1] END classifier__estimator__C=1, classifier__estimator__class_weight=None, classifier__estimator__fit_intercept=True, classifier__estimator__max_iter=100, classifier__estimator__penalty=None, classifier__estimator__solver=lbfgs, classifier__estimator__tol=0.0001, vectorizer=CountVectorizer(token_pattern='(?u)\\\\b\\\\w+\\\\b'); accuracy: (test=0.106) f1_weighted: (test=0.842) precision_weighted: (test=0.845) recall_weighted: (test=0.840) total time=   7.3s\n",
      "[CV 1/1] END classifier__estimator__C=1, classifier__estimator__class_weight=None, classifier__estimator__fit_intercept=True, classifier__estimator__max_iter=100, classifier__estimator__penalty=l2, classifier__estimator__solver=saga, classifier__estimator__tol=0.0001, vectorizer=TfidfVectorizer(token_pattern='(?u)\\\\b\\\\w+\\\\b'); accuracy: (test=0.117) f1_weighted: (test=0.831) precision_weighted: (test=0.879) recall_weighted: (test=0.855) total time=   8.0s\n",
      "[CV 1/1] END classifier__estimator__C=1, classifier__estimator__class_weight=None, classifier__estimator__fit_intercept=True, classifier__estimator__max_iter=100, classifier__estimator__penalty=l2, classifier__estimator__solver=saga, classifier__estimator__tol=0.0001, vectorizer=CountVectorizer(token_pattern='(?u)\\\\b\\\\w+\\\\b'); accuracy: (test=0.154) f1_weighted: (test=0.856) precision_weighted: (test=0.871) recall_weighted: (test=0.866) total time=  15.7s\n",
      "[CV 1/1] END classifier__estimator__C=1, classifier__estimator__class_weight=None, classifier__estimator__fit_intercept=True, classifier__estimator__max_iter=100, classifier__estimator__penalty=l2, classifier__estimator__solver=lbfgs, classifier__estimator__tol=0.0001, vectorizer=TfidfVectorizer(token_pattern='(?u)\\\\b\\\\w+\\\\b'); accuracy: (test=0.117) f1_weighted: (test=0.831) precision_weighted: (test=0.878) recall_weighted: (test=0.855) total time=   3.3s\n",
      "[CV 1/1] END classifier__estimator__C=1, classifier__estimator__class_weight=None, classifier__estimator__fit_intercept=True, classifier__estimator__max_iter=100, classifier__estimator__penalty=l2, classifier__estimator__solver=lbfgs, classifier__estimator__tol=0.0001, vectorizer=CountVectorizer(token_pattern='(?u)\\\\b\\\\w+\\\\b'); accuracy: (test=0.143) f1_weighted: (test=0.859) precision_weighted: (test=0.869) recall_weighted: (test=0.866) total time=   4.4s\n",
      "[CV 1/1] END classifier__estimator__C=1, classifier__estimator__class_weight=None, classifier__estimator__fit_intercept=True, classifier__estimator__max_iter=200, classifier__estimator__penalty=None, classifier__estimator__solver=saga, classifier__estimator__tol=0.0001, vectorizer=TfidfVectorizer(token_pattern='(?u)\\\\b\\\\w+\\\\b'); accuracy: (test=0.123) f1_weighted: (test=0.851) precision_weighted: (test=0.855) recall_weighted: (test=0.850) total time=  32.3s\n",
      "[CV 1/1] END classifier__estimator__C=1, classifier__estimator__class_weight=None, classifier__estimator__fit_intercept=True, classifier__estimator__max_iter=200, classifier__estimator__penalty=None, classifier__estimator__solver=saga, classifier__estimator__tol=0.0001, vectorizer=CountVectorizer(token_pattern='(?u)\\\\b\\\\w+\\\\b'); accuracy: (test=0.150) f1_weighted: (test=0.860) precision_weighted: (test=0.869) recall_weighted: (test=0.867) total time=  33.4s\n",
      "[CV 1/1] END classifier__estimator__C=1, classifier__estimator__class_weight=None, classifier__estimator__fit_intercept=True, classifier__estimator__max_iter=200, classifier__estimator__penalty=None, classifier__estimator__solver=lbfgs, classifier__estimator__tol=0.0001, vectorizer=TfidfVectorizer(token_pattern='(?u)\\\\b\\\\w+\\\\b'); accuracy: (test=0.130) f1_weighted: (test=0.850) precision_weighted: (test=0.855) recall_weighted: (test=0.846) total time=   5.8s\n",
      "[CV 1/1] END classifier__estimator__C=1, classifier__estimator__class_weight=None, classifier__estimator__fit_intercept=True, classifier__estimator__max_iter=200, classifier__estimator__penalty=None, classifier__estimator__solver=lbfgs, classifier__estimator__tol=0.0001, vectorizer=CountVectorizer(token_pattern='(?u)\\\\b\\\\w+\\\\b'); accuracy: (test=0.105) f1_weighted: (test=0.842) precision_weighted: (test=0.845) recall_weighted: (test=0.840) total time=   5.2s\n",
      "[CV 1/1] END classifier__estimator__C=1, classifier__estimator__class_weight=None, classifier__estimator__fit_intercept=True, classifier__estimator__max_iter=200, classifier__estimator__penalty=l2, classifier__estimator__solver=saga, classifier__estimator__tol=0.0001, vectorizer=TfidfVectorizer(token_pattern='(?u)\\\\b\\\\w+\\\\b'); accuracy: (test=0.117) f1_weighted: (test=0.831) precision_weighted: (test=0.879) recall_weighted: (test=0.855) total time=   8.9s\n",
      "[CV 1/1] END classifier__estimator__C=1, classifier__estimator__class_weight=None, classifier__estimator__fit_intercept=True, classifier__estimator__max_iter=200, classifier__estimator__penalty=l2, classifier__estimator__solver=saga, classifier__estimator__tol=0.0001, vectorizer=CountVectorizer(token_pattern='(?u)\\\\b\\\\w+\\\\b'); accuracy: (test=0.151) f1_weighted: (test=0.859) precision_weighted: (test=0.871) recall_weighted: (test=0.867) total time=  31.0s\n",
      "[CV 1/1] END classifier__estimator__C=1, classifier__estimator__class_weight=None, classifier__estimator__fit_intercept=True, classifier__estimator__max_iter=200, classifier__estimator__penalty=l2, classifier__estimator__solver=lbfgs, classifier__estimator__tol=0.0001, vectorizer=TfidfVectorizer(token_pattern='(?u)\\\\b\\\\w+\\\\b'); accuracy: (test=0.117) f1_weighted: (test=0.831) precision_weighted: (test=0.878) recall_weighted: (test=0.855) total time=   2.5s\n",
      "[CV 1/1] END classifier__estimator__C=1, classifier__estimator__class_weight=None, classifier__estimator__fit_intercept=True, classifier__estimator__max_iter=200, classifier__estimator__penalty=l2, classifier__estimator__solver=lbfgs, classifier__estimator__tol=0.0001, vectorizer=CountVectorizer(token_pattern='(?u)\\\\b\\\\w+\\\\b'); accuracy: (test=0.143) f1_weighted: (test=0.859) precision_weighted: (test=0.869) recall_weighted: (test=0.866) total time=   4.1s\n",
      "[CV 1/1] END classifier__estimator__C=1, classifier__estimator__class_weight=None, classifier__estimator__fit_intercept=False, classifier__estimator__max_iter=100, classifier__estimator__penalty=None, classifier__estimator__solver=saga, classifier__estimator__tol=0.0001, vectorizer=TfidfVectorizer(token_pattern='(?u)\\\\b\\\\w+\\\\b'); accuracy: (test=0.118) f1_weighted: (test=0.847) precision_weighted: (test=0.848) recall_weighted: (test=0.847) total time=  20.9s\n",
      "[CV 1/1] END classifier__estimator__C=1, classifier__estimator__class_weight=None, classifier__estimator__fit_intercept=False, classifier__estimator__max_iter=100, classifier__estimator__penalty=None, classifier__estimator__solver=saga, classifier__estimator__tol=0.0001, vectorizer=CountVectorizer(token_pattern='(?u)\\\\b\\\\w+\\\\b'); accuracy: (test=0.136) f1_weighted: (test=0.852) precision_weighted: (test=0.853) recall_weighted: (test=0.858) total time=  17.8s\n",
      "[CV 1/1] END classifier__estimator__C=1, classifier__estimator__class_weight=None, classifier__estimator__fit_intercept=False, classifier__estimator__max_iter=100, classifier__estimator__penalty=None, classifier__estimator__solver=lbfgs, classifier__estimator__tol=0.0001, vectorizer=TfidfVectorizer(token_pattern='(?u)\\\\b\\\\w+\\\\b'); accuracy: (test=0.133) f1_weighted: (test=0.848) precision_weighted: (test=0.850) recall_weighted: (test=0.846) total time=   2.7s\n",
      "[CV 1/1] END classifier__estimator__C=1, classifier__estimator__class_weight=None, classifier__estimator__fit_intercept=False, classifier__estimator__max_iter=100, classifier__estimator__penalty=None, classifier__estimator__solver=lbfgs, classifier__estimator__tol=0.0001, vectorizer=CountVectorizer(token_pattern='(?u)\\\\b\\\\w+\\\\b'); accuracy: (test=0.103) f1_weighted: (test=0.840) precision_weighted: (test=0.842) recall_weighted: (test=0.839) total time=   4.3s\n",
      "[CV 1/1] END classifier__estimator__C=1, classifier__estimator__class_weight=None, classifier__estimator__fit_intercept=False, classifier__estimator__max_iter=100, classifier__estimator__penalty=l2, classifier__estimator__solver=saga, classifier__estimator__tol=0.0001, vectorizer=TfidfVectorizer(token_pattern='(?u)\\\\b\\\\w+\\\\b'); accuracy: (test=0.147) f1_weighted: (test=0.842) precision_weighted: (test=0.870) recall_weighted: (test=0.858) total time=   4.9s\n",
      "[CV 1/1] END classifier__estimator__C=1, classifier__estimator__class_weight=None, classifier__estimator__fit_intercept=False, classifier__estimator__max_iter=100, classifier__estimator__penalty=l2, classifier__estimator__solver=saga, classifier__estimator__tol=0.0001, vectorizer=CountVectorizer(token_pattern='(?u)\\\\b\\\\w+\\\\b'); accuracy: (test=0.138) f1_weighted: (test=0.851) precision_weighted: (test=0.853) recall_weighted: (test=0.859) total time=  16.3s\n",
      "[CV 1/1] END classifier__estimator__C=1, classifier__estimator__class_weight=None, classifier__estimator__fit_intercept=False, classifier__estimator__max_iter=100, classifier__estimator__penalty=l2, classifier__estimator__solver=lbfgs, classifier__estimator__tol=0.0001, vectorizer=TfidfVectorizer(token_pattern='(?u)\\\\b\\\\w+\\\\b'); accuracy: (test=0.147) f1_weighted: (test=0.843) precision_weighted: (test=0.870) recall_weighted: (test=0.859) total time=   1.5s\n",
      "[CV 1/1] END classifier__estimator__C=1, classifier__estimator__class_weight=None, classifier__estimator__fit_intercept=False, classifier__estimator__max_iter=100, classifier__estimator__penalty=l2, classifier__estimator__solver=lbfgs, classifier__estimator__tol=0.0001, vectorizer=CountVectorizer(token_pattern='(?u)\\\\b\\\\w+\\\\b'); accuracy: (test=0.134) f1_weighted: (test=0.854) precision_weighted: (test=0.853) recall_weighted: (test=0.859) total time=   3.2s\n",
      "[CV 1/1] END classifier__estimator__C=1, classifier__estimator__class_weight=None, classifier__estimator__fit_intercept=False, classifier__estimator__max_iter=200, classifier__estimator__penalty=None, classifier__estimator__solver=saga, classifier__estimator__tol=0.0001, vectorizer=TfidfVectorizer(token_pattern='(?u)\\\\b\\\\w+\\\\b'); accuracy: (test=0.107) f1_weighted: (test=0.844) precision_weighted: (test=0.845) recall_weighted: (test=0.844) total time=  30.8s\n",
      "[CV 1/1] END classifier__estimator__C=1, classifier__estimator__class_weight=None, classifier__estimator__fit_intercept=False, classifier__estimator__max_iter=200, classifier__estimator__penalty=None, classifier__estimator__solver=saga, classifier__estimator__tol=0.0001, vectorizer=CountVectorizer(token_pattern='(?u)\\\\b\\\\w+\\\\b'); accuracy: (test=0.133) f1_weighted: (test=0.854) precision_weighted: (test=0.854) recall_weighted: (test=0.859) total time=  30.9s\n",
      "[CV 1/1] END classifier__estimator__C=1, classifier__estimator__class_weight=None, classifier__estimator__fit_intercept=False, classifier__estimator__max_iter=200, classifier__estimator__penalty=None, classifier__estimator__solver=lbfgs, classifier__estimator__tol=0.0001, vectorizer=TfidfVectorizer(token_pattern='(?u)\\\\b\\\\w+\\\\b'); accuracy: (test=0.133) f1_weighted: (test=0.848) precision_weighted: (test=0.850) recall_weighted: (test=0.846) total time=   3.1s\n",
      "[CV 1/1] END classifier__estimator__C=1, classifier__estimator__class_weight=None, classifier__estimator__fit_intercept=False, classifier__estimator__max_iter=200, classifier__estimator__penalty=None, classifier__estimator__solver=lbfgs, classifier__estimator__tol=0.0001, vectorizer=CountVectorizer(token_pattern='(?u)\\\\b\\\\w+\\\\b'); accuracy: (test=0.103) f1_weighted: (test=0.840) precision_weighted: (test=0.842) recall_weighted: (test=0.839) total time=   5.0s\n",
      "[CV 1/1] END classifier__estimator__C=1, classifier__estimator__class_weight=None, classifier__estimator__fit_intercept=False, classifier__estimator__max_iter=200, classifier__estimator__penalty=l2, classifier__estimator__solver=saga, classifier__estimator__tol=0.0001, vectorizer=TfidfVectorizer(token_pattern='(?u)\\\\b\\\\w+\\\\b'); accuracy: (test=0.147) f1_weighted: (test=0.842) precision_weighted: (test=0.870) recall_weighted: (test=0.858) total time=   3.4s\n",
      "[CV 1/1] END classifier__estimator__C=1, classifier__estimator__class_weight=None, classifier__estimator__fit_intercept=False, classifier__estimator__max_iter=200, classifier__estimator__penalty=l2, classifier__estimator__solver=saga, classifier__estimator__tol=0.0001, vectorizer=CountVectorizer(token_pattern='(?u)\\\\b\\\\w+\\\\b'); accuracy: (test=0.134) f1_weighted: (test=0.854) precision_weighted: (test=0.854) recall_weighted: (test=0.859) total time=  33.3s\n",
      "[CV 1/1] END classifier__estimator__C=1, classifier__estimator__class_weight=None, classifier__estimator__fit_intercept=False, classifier__estimator__max_iter=200, classifier__estimator__penalty=l2, classifier__estimator__solver=lbfgs, classifier__estimator__tol=0.0001, vectorizer=TfidfVectorizer(token_pattern='(?u)\\\\b\\\\w+\\\\b'); accuracy: (test=0.147) f1_weighted: (test=0.843) precision_weighted: (test=0.870) recall_weighted: (test=0.859) total time=   1.1s\n",
      "[CV 1/1] END classifier__estimator__C=1, classifier__estimator__class_weight=None, classifier__estimator__fit_intercept=False, classifier__estimator__max_iter=200, classifier__estimator__penalty=l2, classifier__estimator__solver=lbfgs, classifier__estimator__tol=0.0001, vectorizer=CountVectorizer(token_pattern='(?u)\\\\b\\\\w+\\\\b'); accuracy: (test=0.134) f1_weighted: (test=0.854) precision_weighted: (test=0.853) recall_weighted: (test=0.859) total time=   3.6s\n",
      "[CV 1/1] END classifier__estimator__C=1, classifier__estimator__class_weight=balanced, classifier__estimator__fit_intercept=True, classifier__estimator__max_iter=100, classifier__estimator__penalty=None, classifier__estimator__solver=saga, classifier__estimator__tol=0.0001, vectorizer=TfidfVectorizer(token_pattern='(?u)\\\\b\\\\w+\\\\b'); accuracy: (test=0.099) f1_weighted: (test=0.842) precision_weighted: (test=0.848) recall_weighted: (test=0.838) total time=  18.9s\n",
      "[CV 1/1] END classifier__estimator__C=1, classifier__estimator__class_weight=balanced, classifier__estimator__fit_intercept=True, classifier__estimator__max_iter=100, classifier__estimator__penalty=None, classifier__estimator__solver=saga, classifier__estimator__tol=0.0001, vectorizer=CountVectorizer(token_pattern='(?u)\\\\b\\\\w+\\\\b'); accuracy: (test=0.080) f1_weighted: (test=0.842) precision_weighted: (test=0.849) recall_weighted: (test=0.841) total time=  16.3s\n",
      "[CV 1/1] END classifier__estimator__C=1, classifier__estimator__class_weight=balanced, classifier__estimator__fit_intercept=True, classifier__estimator__max_iter=100, classifier__estimator__penalty=None, classifier__estimator__solver=lbfgs, classifier__estimator__tol=0.0001, vectorizer=TfidfVectorizer(token_pattern='(?u)\\\\b\\\\w+\\\\b'); accuracy: (test=0.118) f1_weighted: (test=0.839) precision_weighted: (test=0.848) recall_weighted: (test=0.833) total time=   6.0s\n",
      "[CV 1/1] END classifier__estimator__C=1, classifier__estimator__class_weight=balanced, classifier__estimator__fit_intercept=True, classifier__estimator__max_iter=100, classifier__estimator__penalty=None, classifier__estimator__solver=lbfgs, classifier__estimator__tol=0.0001, vectorizer=CountVectorizer(token_pattern='(?u)\\\\b\\\\w+\\\\b'); accuracy: (test=0.094) f1_weighted: (test=0.832) precision_weighted: (test=0.838) recall_weighted: (test=0.827) total time=   9.8s\n",
      "[CV 1/1] END classifier__estimator__C=1, classifier__estimator__class_weight=balanced, classifier__estimator__fit_intercept=True, classifier__estimator__max_iter=100, classifier__estimator__penalty=l2, classifier__estimator__solver=saga, classifier__estimator__tol=0.0001, vectorizer=TfidfVectorizer(token_pattern='(?u)\\\\b\\\\w+\\\\b'); accuracy: (test=0.005) f1_weighted: (test=0.842) precision_weighted: (test=0.851) recall_weighted: (test=0.848) total time=   9.1s\n",
      "[CV 1/1] END classifier__estimator__C=1, classifier__estimator__class_weight=balanced, classifier__estimator__fit_intercept=True, classifier__estimator__max_iter=100, classifier__estimator__penalty=l2, classifier__estimator__solver=saga, classifier__estimator__tol=0.0001, vectorizer=CountVectorizer(token_pattern='(?u)\\\\b\\\\w+\\\\b'); accuracy: (test=0.078) f1_weighted: (test=0.842) precision_weighted: (test=0.849) recall_weighted: (test=0.841) total time=  15.8s\n",
      "[CV 1/1] END classifier__estimator__C=1, classifier__estimator__class_weight=balanced, classifier__estimator__fit_intercept=True, classifier__estimator__max_iter=100, classifier__estimator__penalty=l2, classifier__estimator__solver=lbfgs, classifier__estimator__tol=0.0001, vectorizer=TfidfVectorizer(token_pattern='(?u)\\\\b\\\\w+\\\\b'); accuracy: (test=0.107) f1_weighted: (test=0.853) precision_weighted: (test=0.855) recall_weighted: (test=0.854) total time=   4.1s\n",
      "[CV 1/1] END classifier__estimator__C=1, classifier__estimator__class_weight=balanced, classifier__estimator__fit_intercept=True, classifier__estimator__max_iter=100, classifier__estimator__penalty=l2, classifier__estimator__solver=lbfgs, classifier__estimator__tol=0.0001, vectorizer=CountVectorizer(token_pattern='(?u)\\\\b\\\\w+\\\\b'); accuracy: (test=0.096) f1_weighted: (test=0.847) precision_weighted: (test=0.852) recall_weighted: (test=0.845) total time=   5.7s\n",
      "[CV 1/1] END classifier__estimator__C=1, classifier__estimator__class_weight=balanced, classifier__estimator__fit_intercept=True, classifier__estimator__max_iter=200, classifier__estimator__penalty=None, classifier__estimator__solver=saga, classifier__estimator__tol=0.0001, vectorizer=TfidfVectorizer(token_pattern='(?u)\\\\b\\\\w+\\\\b'); accuracy: (test=0.094) f1_weighted: (test=0.838) precision_weighted: (test=0.844) recall_weighted: (test=0.834) total time=  31.8s\n",
      "[CV 1/1] END classifier__estimator__C=1, classifier__estimator__class_weight=balanced, classifier__estimator__fit_intercept=True, classifier__estimator__max_iter=200, classifier__estimator__penalty=None, classifier__estimator__solver=saga, classifier__estimator__tol=0.0001, vectorizer=CountVectorizer(token_pattern='(?u)\\\\b\\\\w+\\\\b'); accuracy: (test=0.089) f1_weighted: (test=0.844) precision_weighted: (test=0.849) recall_weighted: (test=0.842) total time=  31.9s\n",
      "[CV 1/1] END classifier__estimator__C=1, classifier__estimator__class_weight=balanced, classifier__estimator__fit_intercept=True, classifier__estimator__max_iter=200, classifier__estimator__penalty=None, classifier__estimator__solver=lbfgs, classifier__estimator__tol=0.0001, vectorizer=TfidfVectorizer(token_pattern='(?u)\\\\b\\\\w+\\\\b'); accuracy: (test=0.114) f1_weighted: (test=0.839) precision_weighted: (test=0.847) recall_weighted: (test=0.834) total time=   6.9s\n",
      "[CV 1/1] END classifier__estimator__C=1, classifier__estimator__class_weight=balanced, classifier__estimator__fit_intercept=True, classifier__estimator__max_iter=200, classifier__estimator__penalty=None, classifier__estimator__solver=lbfgs, classifier__estimator__tol=0.0001, vectorizer=CountVectorizer(token_pattern='(?u)\\\\b\\\\w+\\\\b'); accuracy: (test=0.094) f1_weighted: (test=0.832) precision_weighted: (test=0.838) recall_weighted: (test=0.827) total time=   6.7s\n",
      "[CV 1/1] END classifier__estimator__C=1, classifier__estimator__class_weight=balanced, classifier__estimator__fit_intercept=True, classifier__estimator__max_iter=200, classifier__estimator__penalty=l2, classifier__estimator__solver=saga, classifier__estimator__tol=0.0001, vectorizer=TfidfVectorizer(token_pattern='(?u)\\\\b\\\\w+\\\\b'); accuracy: (test=0.004) f1_weighted: (test=0.842) precision_weighted: (test=0.849) recall_weighted: (test=0.851) total time=  18.4s\n",
      "[CV 1/1] END classifier__estimator__C=1, classifier__estimator__class_weight=balanced, classifier__estimator__fit_intercept=True, classifier__estimator__max_iter=200, classifier__estimator__penalty=l2, classifier__estimator__solver=saga, classifier__estimator__tol=0.0001, vectorizer=CountVectorizer(token_pattern='(?u)\\\\b\\\\w+\\\\b'); accuracy: (test=0.087) f1_weighted: (test=0.844) precision_weighted: (test=0.850) recall_weighted: (test=0.842) total time=  32.3s\n",
      "[CV 1/1] END classifier__estimator__C=1, classifier__estimator__class_weight=balanced, classifier__estimator__fit_intercept=True, classifier__estimator__max_iter=200, classifier__estimator__penalty=l2, classifier__estimator__solver=lbfgs, classifier__estimator__tol=0.0001, vectorizer=TfidfVectorizer(token_pattern='(?u)\\\\b\\\\w+\\\\b'); accuracy: (test=0.107) f1_weighted: (test=0.853) precision_weighted: (test=0.855) recall_weighted: (test=0.854) total time=   3.1s\n",
      "[CV 1/1] END classifier__estimator__C=1, classifier__estimator__class_weight=balanced, classifier__estimator__fit_intercept=True, classifier__estimator__max_iter=200, classifier__estimator__penalty=l2, classifier__estimator__solver=lbfgs, classifier__estimator__tol=0.0001, vectorizer=CountVectorizer(token_pattern='(?u)\\\\b\\\\w+\\\\b'); accuracy: (test=0.096) f1_weighted: (test=0.847) precision_weighted: (test=0.852) recall_weighted: (test=0.845) total time=   4.6s\n",
      "[CV 1/1] END classifier__estimator__C=1, classifier__estimator__class_weight=balanced, classifier__estimator__fit_intercept=False, classifier__estimator__max_iter=100, classifier__estimator__penalty=None, classifier__estimator__solver=saga, classifier__estimator__tol=0.0001, vectorizer=TfidfVectorizer(token_pattern='(?u)\\\\b\\\\w+\\\\b'); accuracy: (test=0.089) f1_weighted: (test=0.835) precision_weighted: (test=0.841) recall_weighted: (test=0.832) total time=  15.2s\n",
      "[CV 1/1] END classifier__estimator__C=1, classifier__estimator__class_weight=balanced, classifier__estimator__fit_intercept=False, classifier__estimator__max_iter=100, classifier__estimator__penalty=None, classifier__estimator__solver=saga, classifier__estimator__tol=0.0001, vectorizer=CountVectorizer(token_pattern='(?u)\\\\b\\\\w+\\\\b'); accuracy: (test=0.078) f1_weighted: (test=0.836) precision_weighted: (test=0.845) recall_weighted: (test=0.835) total time=  16.7s\n",
      "[CV 1/1] END classifier__estimator__C=1, classifier__estimator__class_weight=balanced, classifier__estimator__fit_intercept=False, classifier__estimator__max_iter=100, classifier__estimator__penalty=None, classifier__estimator__solver=lbfgs, classifier__estimator__tol=0.0001, vectorizer=TfidfVectorizer(token_pattern='(?u)\\\\b\\\\w+\\\\b'); accuracy: (test=0.117) f1_weighted: (test=0.839) precision_weighted: (test=0.843) recall_weighted: (test=0.835) total time=   3.4s\n",
      "[CV 1/1] END classifier__estimator__C=1, classifier__estimator__class_weight=balanced, classifier__estimator__fit_intercept=False, classifier__estimator__max_iter=100, classifier__estimator__penalty=None, classifier__estimator__solver=lbfgs, classifier__estimator__tol=0.0001, vectorizer=CountVectorizer(token_pattern='(?u)\\\\b\\\\w+\\\\b'); accuracy: (test=0.098) f1_weighted: (test=0.831) precision_weighted: (test=0.837) recall_weighted: (test=0.826) total time=   6.0s\n",
      "[CV 1/1] END classifier__estimator__C=1, classifier__estimator__class_weight=balanced, classifier__estimator__fit_intercept=False, classifier__estimator__max_iter=100, classifier__estimator__penalty=l2, classifier__estimator__solver=saga, classifier__estimator__tol=0.0001, vectorizer=TfidfVectorizer(token_pattern='(?u)\\\\b\\\\w+\\\\b'); accuracy: (test=0.004) f1_weighted: (test=0.836) precision_weighted: (test=0.846) recall_weighted: (test=0.845) total time=  11.7s\n",
      "[CV 1/1] END classifier__estimator__C=1, classifier__estimator__class_weight=balanced, classifier__estimator__fit_intercept=False, classifier__estimator__max_iter=100, classifier__estimator__penalty=l2, classifier__estimator__solver=saga, classifier__estimator__tol=0.0001, vectorizer=CountVectorizer(token_pattern='(?u)\\\\b\\\\w+\\\\b'); accuracy: (test=0.077) f1_weighted: (test=0.836) precision_weighted: (test=0.845) recall_weighted: (test=0.836) total time=  15.9s\n",
      "[CV 1/1] END classifier__estimator__C=1, classifier__estimator__class_weight=balanced, classifier__estimator__fit_intercept=False, classifier__estimator__max_iter=100, classifier__estimator__penalty=l2, classifier__estimator__solver=lbfgs, classifier__estimator__tol=0.0001, vectorizer=TfidfVectorizer(token_pattern='(?u)\\\\b\\\\w+\\\\b'); accuracy: (test=0.085) f1_weighted: (test=0.844) precision_weighted: (test=0.850) recall_weighted: (test=0.848) total time=   2.0s\n",
      "[CV 1/1] END classifier__estimator__C=1, classifier__estimator__class_weight=balanced, classifier__estimator__fit_intercept=False, classifier__estimator__max_iter=100, classifier__estimator__penalty=l2, classifier__estimator__solver=lbfgs, classifier__estimator__tol=0.0001, vectorizer=CountVectorizer(token_pattern='(?u)\\\\b\\\\w+\\\\b'); accuracy: (test=0.093) f1_weighted: (test=0.840) precision_weighted: (test=0.846) recall_weighted: (test=0.838) total time=   4.1s\n",
      "[CV 1/1] END classifier__estimator__C=1, classifier__estimator__class_weight=balanced, classifier__estimator__fit_intercept=False, classifier__estimator__max_iter=200, classifier__estimator__penalty=None, classifier__estimator__solver=saga, classifier__estimator__tol=0.0001, vectorizer=TfidfVectorizer(token_pattern='(?u)\\\\b\\\\w+\\\\b'); accuracy: (test=0.083) f1_weighted: (test=0.832) precision_weighted: (test=0.838) recall_weighted: (test=0.828) total time=  31.6s\n",
      "[CV 1/1] END classifier__estimator__C=1, classifier__estimator__class_weight=balanced, classifier__estimator__fit_intercept=False, classifier__estimator__max_iter=200, classifier__estimator__penalty=None, classifier__estimator__solver=saga, classifier__estimator__tol=0.0001, vectorizer=CountVectorizer(token_pattern='(?u)\\\\b\\\\w+\\\\b'); accuracy: (test=0.086) f1_weighted: (test=0.838) precision_weighted: (test=0.846) recall_weighted: (test=0.837) total time=  32.4s\n",
      "[CV 1/1] END classifier__estimator__C=1, classifier__estimator__class_weight=balanced, classifier__estimator__fit_intercept=False, classifier__estimator__max_iter=200, classifier__estimator__penalty=None, classifier__estimator__solver=lbfgs, classifier__estimator__tol=0.0001, vectorizer=TfidfVectorizer(token_pattern='(?u)\\\\b\\\\w+\\\\b'); accuracy: (test=0.117) f1_weighted: (test=0.839) precision_weighted: (test=0.843) recall_weighted: (test=0.835) total time=   3.4s\n",
      "[CV 1/1] END classifier__estimator__C=1, classifier__estimator__class_weight=balanced, classifier__estimator__fit_intercept=False, classifier__estimator__max_iter=200, classifier__estimator__penalty=None, classifier__estimator__solver=lbfgs, classifier__estimator__tol=0.0001, vectorizer=CountVectorizer(token_pattern='(?u)\\\\b\\\\w+\\\\b'); accuracy: (test=0.098) f1_weighted: (test=0.831) precision_weighted: (test=0.837) recall_weighted: (test=0.826) total time=   8.3s\n",
      "[CV 1/1] END classifier__estimator__C=1, classifier__estimator__class_weight=balanced, classifier__estimator__fit_intercept=False, classifier__estimator__max_iter=200, classifier__estimator__penalty=l2, classifier__estimator__solver=saga, classifier__estimator__tol=0.0001, vectorizer=TfidfVectorizer(token_pattern='(?u)\\\\b\\\\w+\\\\b'); accuracy: (test=0.007) f1_weighted: (test=0.834) precision_weighted: (test=0.846) recall_weighted: (test=0.839) total time=  18.4s\n",
      "[CV 1/1] END classifier__estimator__C=1, classifier__estimator__class_weight=balanced, classifier__estimator__fit_intercept=False, classifier__estimator__max_iter=200, classifier__estimator__penalty=l2, classifier__estimator__solver=saga, classifier__estimator__tol=0.0001, vectorizer=CountVectorizer(token_pattern='(?u)\\\\b\\\\w+\\\\b'); accuracy: (test=0.084) f1_weighted: (test=0.838) precision_weighted: (test=0.845) recall_weighted: (test=0.836) total time=  31.9s\n",
      "[CV 1/1] END classifier__estimator__C=1, classifier__estimator__class_weight=balanced, classifier__estimator__fit_intercept=False, classifier__estimator__max_iter=200, classifier__estimator__penalty=l2, classifier__estimator__solver=lbfgs, classifier__estimator__tol=0.0001, vectorizer=TfidfVectorizer(token_pattern='(?u)\\\\b\\\\w+\\\\b'); accuracy: (test=0.085) f1_weighted: (test=0.844) precision_weighted: (test=0.850) recall_weighted: (test=0.848) total time=   1.4s\n",
      "[CV 1/1] END classifier__estimator__C=1, classifier__estimator__class_weight=balanced, classifier__estimator__fit_intercept=False, classifier__estimator__max_iter=200, classifier__estimator__penalty=l2, classifier__estimator__solver=lbfgs, classifier__estimator__tol=0.0001, vectorizer=CountVectorizer(token_pattern='(?u)\\\\b\\\\w+\\\\b'); accuracy: (test=0.093) f1_weighted: (test=0.840) precision_weighted: (test=0.846) recall_weighted: (test=0.838) total time=   3.9s\n",
      "[CV 1/1] END classifier__estimator__C=10, classifier__estimator__class_weight=None, classifier__estimator__fit_intercept=True, classifier__estimator__max_iter=100, classifier__estimator__penalty=None, classifier__estimator__solver=saga, classifier__estimator__tol=0.0001, vectorizer=TfidfVectorizer(token_pattern='(?u)\\\\b\\\\w+\\\\b'); accuracy: (test=0.136) f1_weighted: (test=0.855) precision_weighted: (test=0.859) recall_weighted: (test=0.855) total time=  18.3s\n",
      "[CV 1/1] END classifier__estimator__C=10, classifier__estimator__class_weight=None, classifier__estimator__fit_intercept=True, classifier__estimator__max_iter=100, classifier__estimator__penalty=None, classifier__estimator__solver=saga, classifier__estimator__tol=0.0001, vectorizer=CountVectorizer(token_pattern='(?u)\\\\b\\\\w+\\\\b'); accuracy: (test=0.156) f1_weighted: (test=0.858) precision_weighted: (test=0.870) recall_weighted: (test=0.867) total time=  15.9s\n",
      "[CV 1/1] END classifier__estimator__C=10, classifier__estimator__class_weight=None, classifier__estimator__fit_intercept=True, classifier__estimator__max_iter=100, classifier__estimator__penalty=None, classifier__estimator__solver=lbfgs, classifier__estimator__tol=0.0001, vectorizer=TfidfVectorizer(token_pattern='(?u)\\\\b\\\\w+\\\\b'); accuracy: (test=0.131) f1_weighted: (test=0.850) precision_weighted: (test=0.856) recall_weighted: (test=0.846) total time=   7.2s\n",
      "[CV 1/1] END classifier__estimator__C=10, classifier__estimator__class_weight=None, classifier__estimator__fit_intercept=True, classifier__estimator__max_iter=100, classifier__estimator__penalty=None, classifier__estimator__solver=lbfgs, classifier__estimator__tol=0.0001, vectorizer=CountVectorizer(token_pattern='(?u)\\\\b\\\\w+\\\\b'); accuracy: (test=0.106) f1_weighted: (test=0.842) precision_weighted: (test=0.845) recall_weighted: (test=0.840) total time=   5.2s\n",
      "[CV 1/1] END classifier__estimator__C=10, classifier__estimator__class_weight=None, classifier__estimator__fit_intercept=True, classifier__estimator__max_iter=100, classifier__estimator__penalty=l2, classifier__estimator__solver=saga, classifier__estimator__tol=0.0001, vectorizer=TfidfVectorizer(token_pattern='(?u)\\\\b\\\\w+\\\\b'); accuracy: (test=0.170) f1_weighted: (test=0.863) precision_weighted: (test=0.879) recall_weighted: (test=0.868) total time=  11.5s\n",
      "[CV 1/1] END classifier__estimator__C=10, classifier__estimator__class_weight=None, classifier__estimator__fit_intercept=True, classifier__estimator__max_iter=100, classifier__estimator__penalty=l2, classifier__estimator__solver=saga, classifier__estimator__tol=0.0001, vectorizer=CountVectorizer(token_pattern='(?u)\\\\b\\\\w+\\\\b'); accuracy: (test=0.156) f1_weighted: (test=0.858) precision_weighted: (test=0.870) recall_weighted: (test=0.867) total time=  16.9s\n",
      "[CV 1/1] END classifier__estimator__C=10, classifier__estimator__class_weight=None, classifier__estimator__fit_intercept=True, classifier__estimator__max_iter=100, classifier__estimator__penalty=l2, classifier__estimator__solver=lbfgs, classifier__estimator__tol=0.0001, vectorizer=TfidfVectorizer(token_pattern='(?u)\\\\b\\\\w+\\\\b'); accuracy: (test=0.167) f1_weighted: (test=0.862) precision_weighted: (test=0.878) recall_weighted: (test=0.868) total time=   5.4s\n",
      "[CV 1/1] END classifier__estimator__C=10, classifier__estimator__class_weight=None, classifier__estimator__fit_intercept=True, classifier__estimator__max_iter=100, classifier__estimator__penalty=l2, classifier__estimator__solver=lbfgs, classifier__estimator__tol=0.0001, vectorizer=CountVectorizer(token_pattern='(?u)\\\\b\\\\w+\\\\b'); accuracy: (test=0.126) f1_weighted: (test=0.855) precision_weighted: (test=0.857) recall_weighted: (test=0.857) total time=   5.1s\n",
      "[CV 1/1] END classifier__estimator__C=10, classifier__estimator__class_weight=None, classifier__estimator__fit_intercept=True, classifier__estimator__max_iter=200, classifier__estimator__penalty=None, classifier__estimator__solver=saga, classifier__estimator__tol=0.0001, vectorizer=TfidfVectorizer(token_pattern='(?u)\\\\b\\\\w+\\\\b'); accuracy: (test=0.123) f1_weighted: (test=0.851) precision_weighted: (test=0.855) recall_weighted: (test=0.850) total time=  31.3s\n",
      "[CV 1/1] END classifier__estimator__C=10, classifier__estimator__class_weight=None, classifier__estimator__fit_intercept=True, classifier__estimator__max_iter=200, classifier__estimator__penalty=None, classifier__estimator__solver=saga, classifier__estimator__tol=0.0001, vectorizer=CountVectorizer(token_pattern='(?u)\\\\b\\\\w+\\\\b'); accuracy: (test=0.150) f1_weighted: (test=0.860) precision_weighted: (test=0.869) recall_weighted: (test=0.867) total time=  32.2s\n",
      "[CV 1/1] END classifier__estimator__C=10, classifier__estimator__class_weight=None, classifier__estimator__fit_intercept=True, classifier__estimator__max_iter=200, classifier__estimator__penalty=None, classifier__estimator__solver=lbfgs, classifier__estimator__tol=0.0001, vectorizer=TfidfVectorizer(token_pattern='(?u)\\\\b\\\\w+\\\\b'); accuracy: (test=0.130) f1_weighted: (test=0.850) precision_weighted: (test=0.855) recall_weighted: (test=0.846) total time=   6.8s\n",
      "[CV 1/1] END classifier__estimator__C=10, classifier__estimator__class_weight=None, classifier__estimator__fit_intercept=True, classifier__estimator__max_iter=200, classifier__estimator__penalty=None, classifier__estimator__solver=lbfgs, classifier__estimator__tol=0.0001, vectorizer=CountVectorizer(token_pattern='(?u)\\\\b\\\\w+\\\\b'); accuracy: (test=0.105) f1_weighted: (test=0.842) precision_weighted: (test=0.845) recall_weighted: (test=0.840) total time=   5.4s\n",
      "[CV 1/1] END classifier__estimator__C=10, classifier__estimator__class_weight=None, classifier__estimator__fit_intercept=True, classifier__estimator__max_iter=200, classifier__estimator__penalty=l2, classifier__estimator__solver=saga, classifier__estimator__tol=0.0001, vectorizer=TfidfVectorizer(token_pattern='(?u)\\\\b\\\\w+\\\\b'); accuracy: (test=0.170) f1_weighted: (test=0.863) precision_weighted: (test=0.879) recall_weighted: (test=0.868) total time=  16.5s\n",
      "[CV 1/1] END classifier__estimator__C=10, classifier__estimator__class_weight=None, classifier__estimator__fit_intercept=True, classifier__estimator__max_iter=200, classifier__estimator__penalty=l2, classifier__estimator__solver=saga, classifier__estimator__tol=0.0001, vectorizer=CountVectorizer(token_pattern='(?u)\\\\b\\\\w+\\\\b'); accuracy: (test=0.151) f1_weighted: (test=0.860) precision_weighted: (test=0.870) recall_weighted: (test=0.867) total time=  32.1s\n",
      "[CV 1/1] END classifier__estimator__C=10, classifier__estimator__class_weight=None, classifier__estimator__fit_intercept=True, classifier__estimator__max_iter=200, classifier__estimator__penalty=l2, classifier__estimator__solver=lbfgs, classifier__estimator__tol=0.0001, vectorizer=TfidfVectorizer(token_pattern='(?u)\\\\b\\\\w+\\\\b'); accuracy: (test=0.167) f1_weighted: (test=0.862) precision_weighted: (test=0.878) recall_weighted: (test=0.868) total time=   4.6s\n",
      "[CV 1/1] END classifier__estimator__C=10, classifier__estimator__class_weight=None, classifier__estimator__fit_intercept=True, classifier__estimator__max_iter=200, classifier__estimator__penalty=l2, classifier__estimator__solver=lbfgs, classifier__estimator__tol=0.0001, vectorizer=CountVectorizer(token_pattern='(?u)\\\\b\\\\w+\\\\b'); accuracy: (test=0.126) f1_weighted: (test=0.855) precision_weighted: (test=0.857) recall_weighted: (test=0.857) total time=   6.1s\n",
      "[CV 1/1] END classifier__estimator__C=10, classifier__estimator__class_weight=None, classifier__estimator__fit_intercept=False, classifier__estimator__max_iter=100, classifier__estimator__penalty=None, classifier__estimator__solver=saga, classifier__estimator__tol=0.0001, vectorizer=TfidfVectorizer(token_pattern='(?u)\\\\b\\\\w+\\\\b'); accuracy: (test=0.118) f1_weighted: (test=0.847) precision_weighted: (test=0.848) recall_weighted: (test=0.847) total time=  16.8s\n",
      "[CV 1/1] END classifier__estimator__C=10, classifier__estimator__class_weight=None, classifier__estimator__fit_intercept=False, classifier__estimator__max_iter=100, classifier__estimator__penalty=None, classifier__estimator__solver=saga, classifier__estimator__tol=0.0001, vectorizer=CountVectorizer(token_pattern='(?u)\\\\b\\\\w+\\\\b'); accuracy: (test=0.136) f1_weighted: (test=0.852) precision_weighted: (test=0.853) recall_weighted: (test=0.858) total time=  15.4s\n",
      "[CV 1/1] END classifier__estimator__C=10, classifier__estimator__class_weight=None, classifier__estimator__fit_intercept=False, classifier__estimator__max_iter=100, classifier__estimator__penalty=None, classifier__estimator__solver=lbfgs, classifier__estimator__tol=0.0001, vectorizer=TfidfVectorizer(token_pattern='(?u)\\\\b\\\\w+\\\\b'); accuracy: (test=0.133) f1_weighted: (test=0.848) precision_weighted: (test=0.850) recall_weighted: (test=0.846) total time=   2.7s\n",
      "[CV 1/1] END classifier__estimator__C=10, classifier__estimator__class_weight=None, classifier__estimator__fit_intercept=False, classifier__estimator__max_iter=100, classifier__estimator__penalty=None, classifier__estimator__solver=lbfgs, classifier__estimator__tol=0.0001, vectorizer=CountVectorizer(token_pattern='(?u)\\\\b\\\\w+\\\\b'); accuracy: (test=0.103) f1_weighted: (test=0.840) precision_weighted: (test=0.842) recall_weighted: (test=0.839) total time=   4.0s\n",
      "[CV 1/1] END classifier__estimator__C=10, classifier__estimator__class_weight=None, classifier__estimator__fit_intercept=False, classifier__estimator__max_iter=100, classifier__estimator__penalty=l2, classifier__estimator__solver=saga, classifier__estimator__tol=0.0001, vectorizer=TfidfVectorizer(token_pattern='(?u)\\\\b\\\\w+\\\\b'); accuracy: (test=0.160) f1_weighted: (test=0.859) precision_weighted: (test=0.866) recall_weighted: (test=0.863) total time=  10.0s\n",
      "[CV 1/1] END classifier__estimator__C=10, classifier__estimator__class_weight=None, classifier__estimator__fit_intercept=False, classifier__estimator__max_iter=100, classifier__estimator__penalty=l2, classifier__estimator__solver=saga, classifier__estimator__tol=0.0001, vectorizer=CountVectorizer(token_pattern='(?u)\\\\b\\\\w+\\\\b'); accuracy: (test=0.136) f1_weighted: (test=0.852) precision_weighted: (test=0.853) recall_weighted: (test=0.858) total time=  15.5s\n",
      "[CV 1/1] END classifier__estimator__C=10, classifier__estimator__class_weight=None, classifier__estimator__fit_intercept=False, classifier__estimator__max_iter=100, classifier__estimator__penalty=l2, classifier__estimator__solver=lbfgs, classifier__estimator__tol=0.0001, vectorizer=TfidfVectorizer(token_pattern='(?u)\\\\b\\\\w+\\\\b'); accuracy: (test=0.163) f1_weighted: (test=0.860) precision_weighted: (test=0.867) recall_weighted: (test=0.864) total time=   1.7s\n",
      "[CV 1/1] END classifier__estimator__C=10, classifier__estimator__class_weight=None, classifier__estimator__fit_intercept=False, classifier__estimator__max_iter=100, classifier__estimator__penalty=l2, classifier__estimator__solver=lbfgs, classifier__estimator__tol=0.0001, vectorizer=CountVectorizer(token_pattern='(?u)\\\\b\\\\w+\\\\b'); accuracy: (test=0.111) f1_weighted: (test=0.847) precision_weighted: (test=0.846) recall_weighted: (test=0.848) total time=   4.4s\n",
      "[CV 1/1] END classifier__estimator__C=10, classifier__estimator__class_weight=None, classifier__estimator__fit_intercept=False, classifier__estimator__max_iter=200, classifier__estimator__penalty=None, classifier__estimator__solver=saga, classifier__estimator__tol=0.0001, vectorizer=TfidfVectorizer(token_pattern='(?u)\\\\b\\\\w+\\\\b'); accuracy: (test=0.107) f1_weighted: (test=0.844) precision_weighted: (test=0.845) recall_weighted: (test=0.844) total time=  31.9s\n",
      "[CV 1/1] END classifier__estimator__C=10, classifier__estimator__class_weight=None, classifier__estimator__fit_intercept=False, classifier__estimator__max_iter=200, classifier__estimator__penalty=None, classifier__estimator__solver=saga, classifier__estimator__tol=0.0001, vectorizer=CountVectorizer(token_pattern='(?u)\\\\b\\\\w+\\\\b'); accuracy: (test=0.133) f1_weighted: (test=0.854) precision_weighted: (test=0.854) recall_weighted: (test=0.859) total time=  32.2s\n",
      "[CV 1/1] END classifier__estimator__C=10, classifier__estimator__class_weight=None, classifier__estimator__fit_intercept=False, classifier__estimator__max_iter=200, classifier__estimator__penalty=None, classifier__estimator__solver=lbfgs, classifier__estimator__tol=0.0001, vectorizer=TfidfVectorizer(token_pattern='(?u)\\\\b\\\\w+\\\\b'); accuracy: (test=0.133) f1_weighted: (test=0.848) precision_weighted: (test=0.850) recall_weighted: (test=0.846) total time=   3.3s\n",
      "[CV 1/1] END classifier__estimator__C=10, classifier__estimator__class_weight=None, classifier__estimator__fit_intercept=False, classifier__estimator__max_iter=200, classifier__estimator__penalty=None, classifier__estimator__solver=lbfgs, classifier__estimator__tol=0.0001, vectorizer=CountVectorizer(token_pattern='(?u)\\\\b\\\\w+\\\\b'); accuracy: (test=0.103) f1_weighted: (test=0.840) precision_weighted: (test=0.842) recall_weighted: (test=0.839) total time=   5.1s\n",
      "[CV 1/1] END classifier__estimator__C=10, classifier__estimator__class_weight=None, classifier__estimator__fit_intercept=False, classifier__estimator__max_iter=200, classifier__estimator__penalty=l2, classifier__estimator__solver=saga, classifier__estimator__tol=0.0001, vectorizer=TfidfVectorizer(token_pattern='(?u)\\\\b\\\\w+\\\\b'); accuracy: (test=0.160) f1_weighted: (test=0.859) precision_weighted: (test=0.866) recall_weighted: (test=0.863) total time=   7.1s\n",
      "[CV 1/1] END classifier__estimator__C=10, classifier__estimator__class_weight=None, classifier__estimator__fit_intercept=False, classifier__estimator__max_iter=200, classifier__estimator__penalty=l2, classifier__estimator__solver=saga, classifier__estimator__tol=0.0001, vectorizer=CountVectorizer(token_pattern='(?u)\\\\b\\\\w+\\\\b'); accuracy: (test=0.134) f1_weighted: (test=0.854) precision_weighted: (test=0.854) recall_weighted: (test=0.859) total time=  32.2s\n",
      "[CV 1/1] END classifier__estimator__C=10, classifier__estimator__class_weight=None, classifier__estimator__fit_intercept=False, classifier__estimator__max_iter=200, classifier__estimator__penalty=l2, classifier__estimator__solver=lbfgs, classifier__estimator__tol=0.0001, vectorizer=TfidfVectorizer(token_pattern='(?u)\\\\b\\\\w+\\\\b'); accuracy: (test=0.163) f1_weighted: (test=0.860) precision_weighted: (test=0.867) recall_weighted: (test=0.864) total time=   1.7s\n",
      "[CV 1/1] END classifier__estimator__C=10, classifier__estimator__class_weight=None, classifier__estimator__fit_intercept=False, classifier__estimator__max_iter=200, classifier__estimator__penalty=l2, classifier__estimator__solver=lbfgs, classifier__estimator__tol=0.0001, vectorizer=CountVectorizer(token_pattern='(?u)\\\\b\\\\w+\\\\b'); accuracy: (test=0.111) f1_weighted: (test=0.847) precision_weighted: (test=0.846) recall_weighted: (test=0.848) total time=   4.3s\n",
      "[CV 1/1] END classifier__estimator__C=10, classifier__estimator__class_weight=balanced, classifier__estimator__fit_intercept=True, classifier__estimator__max_iter=100, classifier__estimator__penalty=None, classifier__estimator__solver=saga, classifier__estimator__tol=0.0001, vectorizer=TfidfVectorizer(token_pattern='(?u)\\\\b\\\\w+\\\\b'); accuracy: (test=0.099) f1_weighted: (test=0.842) precision_weighted: (test=0.848) recall_weighted: (test=0.838) total time=  16.3s\n",
      "[CV 1/1] END classifier__estimator__C=10, classifier__estimator__class_weight=balanced, classifier__estimator__fit_intercept=True, classifier__estimator__max_iter=100, classifier__estimator__penalty=None, classifier__estimator__solver=saga, classifier__estimator__tol=0.0001, vectorizer=CountVectorizer(token_pattern='(?u)\\\\b\\\\w+\\\\b'); accuracy: (test=0.080) f1_weighted: (test=0.842) precision_weighted: (test=0.849) recall_weighted: (test=0.841) total time=  16.2s\n",
      "[CV 1/1] END classifier__estimator__C=10, classifier__estimator__class_weight=balanced, classifier__estimator__fit_intercept=True, classifier__estimator__max_iter=100, classifier__estimator__penalty=None, classifier__estimator__solver=lbfgs, classifier__estimator__tol=0.0001, vectorizer=TfidfVectorizer(token_pattern='(?u)\\\\b\\\\w+\\\\b'); accuracy: (test=0.118) f1_weighted: (test=0.839) precision_weighted: (test=0.848) recall_weighted: (test=0.833) total time=   7.3s\n",
      "[CV 1/1] END classifier__estimator__C=10, classifier__estimator__class_weight=balanced, classifier__estimator__fit_intercept=True, classifier__estimator__max_iter=100, classifier__estimator__penalty=None, classifier__estimator__solver=lbfgs, classifier__estimator__tol=0.0001, vectorizer=CountVectorizer(token_pattern='(?u)\\\\b\\\\w+\\\\b'); accuracy: (test=0.094) f1_weighted: (test=0.832) precision_weighted: (test=0.838) recall_weighted: (test=0.827) total time=   6.1s\n",
      "[CV 1/1] END classifier__estimator__C=10, classifier__estimator__class_weight=balanced, classifier__estimator__fit_intercept=True, classifier__estimator__max_iter=100, classifier__estimator__penalty=l2, classifier__estimator__solver=saga, classifier__estimator__tol=0.0001, vectorizer=TfidfVectorizer(token_pattern='(?u)\\\\b\\\\w+\\\\b'); accuracy: (test=0.051) f1_weighted: (test=0.842) precision_weighted: (test=0.852) recall_weighted: (test=0.842) total time=  15.0s\n",
      "[CV 1/1] END classifier__estimator__C=10, classifier__estimator__class_weight=balanced, classifier__estimator__fit_intercept=True, classifier__estimator__max_iter=100, classifier__estimator__penalty=l2, classifier__estimator__solver=saga, classifier__estimator__tol=0.0001, vectorizer=CountVectorizer(token_pattern='(?u)\\\\b\\\\w+\\\\b'); accuracy: (test=0.081) f1_weighted: (test=0.842) precision_weighted: (test=0.849) recall_weighted: (test=0.841) total time=  15.9s\n",
      "[CV 1/1] END classifier__estimator__C=10, classifier__estimator__class_weight=balanced, classifier__estimator__fit_intercept=True, classifier__estimator__max_iter=100, classifier__estimator__penalty=l2, classifier__estimator__solver=lbfgs, classifier__estimator__tol=0.0001, vectorizer=TfidfVectorizer(token_pattern='(?u)\\\\b\\\\w+\\\\b'); accuracy: (test=0.131) f1_weighted: (test=0.851) precision_weighted: (test=0.856) recall_weighted: (test=0.849) total time=   4.6s\n",
      "[CV 1/1] END classifier__estimator__C=10, classifier__estimator__class_weight=balanced, classifier__estimator__fit_intercept=True, classifier__estimator__max_iter=100, classifier__estimator__penalty=l2, classifier__estimator__solver=lbfgs, classifier__estimator__tol=0.0001, vectorizer=CountVectorizer(token_pattern='(?u)\\\\b\\\\w+\\\\b'); accuracy: (test=0.088) f1_weighted: (test=0.838) precision_weighted: (test=0.845) recall_weighted: (test=0.834) total time=   9.1s\n",
      "[CV 1/1] END classifier__estimator__C=10, classifier__estimator__class_weight=balanced, classifier__estimator__fit_intercept=True, classifier__estimator__max_iter=200, classifier__estimator__penalty=None, classifier__estimator__solver=saga, classifier__estimator__tol=0.0001, vectorizer=TfidfVectorizer(token_pattern='(?u)\\\\b\\\\w+\\\\b'); accuracy: (test=0.094) f1_weighted: (test=0.838) precision_weighted: (test=0.844) recall_weighted: (test=0.834) total time=  32.6s\n",
      "[CV 1/1] END classifier__estimator__C=10, classifier__estimator__class_weight=balanced, classifier__estimator__fit_intercept=True, classifier__estimator__max_iter=200, classifier__estimator__penalty=None, classifier__estimator__solver=saga, classifier__estimator__tol=0.0001, vectorizer=CountVectorizer(token_pattern='(?u)\\\\b\\\\w+\\\\b'); accuracy: (test=0.089) f1_weighted: (test=0.844) precision_weighted: (test=0.849) recall_weighted: (test=0.842) total time=  32.1s\n",
      "[CV 1/1] END classifier__estimator__C=10, classifier__estimator__class_weight=balanced, classifier__estimator__fit_intercept=True, classifier__estimator__max_iter=200, classifier__estimator__penalty=None, classifier__estimator__solver=lbfgs, classifier__estimator__tol=0.0001, vectorizer=TfidfVectorizer(token_pattern='(?u)\\\\b\\\\w+\\\\b'); accuracy: (test=0.114) f1_weighted: (test=0.839) precision_weighted: (test=0.847) recall_weighted: (test=0.834) total time=   7.5s\n",
      "[CV 1/1] END classifier__estimator__C=10, classifier__estimator__class_weight=balanced, classifier__estimator__fit_intercept=True, classifier__estimator__max_iter=200, classifier__estimator__penalty=None, classifier__estimator__solver=lbfgs, classifier__estimator__tol=0.0001, vectorizer=CountVectorizer(token_pattern='(?u)\\\\b\\\\w+\\\\b'); accuracy: (test=0.094) f1_weighted: (test=0.832) precision_weighted: (test=0.838) recall_weighted: (test=0.827) total time=   6.5s\n",
      "[CV 1/1] END classifier__estimator__C=10, classifier__estimator__class_weight=balanced, classifier__estimator__fit_intercept=True, classifier__estimator__max_iter=200, classifier__estimator__penalty=l2, classifier__estimator__solver=saga, classifier__estimator__tol=0.0001, vectorizer=TfidfVectorizer(token_pattern='(?u)\\\\b\\\\w+\\\\b'); accuracy: (test=0.090) f1_weighted: (test=0.848) precision_weighted: (test=0.851) recall_weighted: (test=0.851) total time=  23.6s\n",
      "[CV 1/1] END classifier__estimator__C=10, classifier__estimator__class_weight=balanced, classifier__estimator__fit_intercept=True, classifier__estimator__max_iter=200, classifier__estimator__penalty=l2, classifier__estimator__solver=saga, classifier__estimator__tol=0.0001, vectorizer=CountVectorizer(token_pattern='(?u)\\\\b\\\\w+\\\\b'); accuracy: (test=0.088) f1_weighted: (test=0.844) precision_weighted: (test=0.849) recall_weighted: (test=0.842) total time=  32.2s\n",
      "[CV 1/1] END classifier__estimator__C=10, classifier__estimator__class_weight=balanced, classifier__estimator__fit_intercept=True, classifier__estimator__max_iter=200, classifier__estimator__penalty=l2, classifier__estimator__solver=lbfgs, classifier__estimator__tol=0.0001, vectorizer=TfidfVectorizer(token_pattern='(?u)\\\\b\\\\w+\\\\b'); accuracy: (test=0.131) f1_weighted: (test=0.851) precision_weighted: (test=0.856) recall_weighted: (test=0.849) total time=   3.8s\n",
      "[CV 1/1] END classifier__estimator__C=10, classifier__estimator__class_weight=balanced, classifier__estimator__fit_intercept=True, classifier__estimator__max_iter=200, classifier__estimator__penalty=l2, classifier__estimator__solver=lbfgs, classifier__estimator__tol=0.0001, vectorizer=CountVectorizer(token_pattern='(?u)\\\\b\\\\w+\\\\b'); accuracy: (test=0.088) f1_weighted: (test=0.838) precision_weighted: (test=0.845) recall_weighted: (test=0.834) total time=   6.3s\n",
      "[CV 1/1] END classifier__estimator__C=10, classifier__estimator__class_weight=balanced, classifier__estimator__fit_intercept=False, classifier__estimator__max_iter=100, classifier__estimator__penalty=None, classifier__estimator__solver=saga, classifier__estimator__tol=0.0001, vectorizer=TfidfVectorizer(token_pattern='(?u)\\\\b\\\\w+\\\\b'); accuracy: (test=0.089) f1_weighted: (test=0.835) precision_weighted: (test=0.841) recall_weighted: (test=0.832) total time=  15.2s\n",
      "[CV 1/1] END classifier__estimator__C=10, classifier__estimator__class_weight=balanced, classifier__estimator__fit_intercept=False, classifier__estimator__max_iter=100, classifier__estimator__penalty=None, classifier__estimator__solver=saga, classifier__estimator__tol=0.0001, vectorizer=CountVectorizer(token_pattern='(?u)\\\\b\\\\w+\\\\b'); accuracy: (test=0.078) f1_weighted: (test=0.836) precision_weighted: (test=0.845) recall_weighted: (test=0.835) total time=  15.8s\n",
      "[CV 1/1] END classifier__estimator__C=10, classifier__estimator__class_weight=balanced, classifier__estimator__fit_intercept=False, classifier__estimator__max_iter=100, classifier__estimator__penalty=None, classifier__estimator__solver=lbfgs, classifier__estimator__tol=0.0001, vectorizer=TfidfVectorizer(token_pattern='(?u)\\\\b\\\\w+\\\\b'); accuracy: (test=0.117) f1_weighted: (test=0.839) precision_weighted: (test=0.843) recall_weighted: (test=0.835) total time=   4.1s\n",
      "[CV 1/1] END classifier__estimator__C=10, classifier__estimator__class_weight=balanced, classifier__estimator__fit_intercept=False, classifier__estimator__max_iter=100, classifier__estimator__penalty=None, classifier__estimator__solver=lbfgs, classifier__estimator__tol=0.0001, vectorizer=CountVectorizer(token_pattern='(?u)\\\\b\\\\w+\\\\b'); accuracy: (test=0.098) f1_weighted: (test=0.831) precision_weighted: (test=0.837) recall_weighted: (test=0.826) total time=   4.8s\n",
      "[CV 1/1] END classifier__estimator__C=10, classifier__estimator__class_weight=balanced, classifier__estimator__fit_intercept=False, classifier__estimator__max_iter=100, classifier__estimator__penalty=l2, classifier__estimator__solver=saga, classifier__estimator__tol=0.0001, vectorizer=TfidfVectorizer(token_pattern='(?u)\\\\b\\\\w+\\\\b'); accuracy: (test=0.078) f1_weighted: (test=0.840) precision_weighted: (test=0.848) recall_weighted: (test=0.839) total time=  13.3s\n",
      "[CV 1/1] END classifier__estimator__C=10, classifier__estimator__class_weight=balanced, classifier__estimator__fit_intercept=False, classifier__estimator__max_iter=100, classifier__estimator__penalty=l2, classifier__estimator__solver=saga, classifier__estimator__tol=0.0001, vectorizer=CountVectorizer(token_pattern='(?u)\\\\b\\\\w+\\\\b'); accuracy: (test=0.078) f1_weighted: (test=0.836) precision_weighted: (test=0.845) recall_weighted: (test=0.835) total time=  15.5s\n",
      "[CV 1/1] END classifier__estimator__C=10, classifier__estimator__class_weight=balanced, classifier__estimator__fit_intercept=False, classifier__estimator__max_iter=100, classifier__estimator__penalty=l2, classifier__estimator__solver=lbfgs, classifier__estimator__tol=0.0001, vectorizer=TfidfVectorizer(token_pattern='(?u)\\\\b\\\\w+\\\\b'); accuracy: (test=0.119) f1_weighted: (test=0.846) precision_weighted: (test=0.852) recall_weighted: (test=0.844) total time=   2.1s\n",
      "[CV 1/1] END classifier__estimator__C=10, classifier__estimator__class_weight=balanced, classifier__estimator__fit_intercept=False, classifier__estimator__max_iter=100, classifier__estimator__penalty=l2, classifier__estimator__solver=lbfgs, classifier__estimator__tol=0.0001, vectorizer=CountVectorizer(token_pattern='(?u)\\\\b\\\\w+\\\\b'); accuracy: (test=0.085) f1_weighted: (test=0.834) precision_weighted: (test=0.841) recall_weighted: (test=0.830) total time=   5.5s\n",
      "[CV 1/1] END classifier__estimator__C=10, classifier__estimator__class_weight=balanced, classifier__estimator__fit_intercept=False, classifier__estimator__max_iter=200, classifier__estimator__penalty=None, classifier__estimator__solver=saga, classifier__estimator__tol=0.0001, vectorizer=TfidfVectorizer(token_pattern='(?u)\\\\b\\\\w+\\\\b'); accuracy: (test=0.083) f1_weighted: (test=0.832) precision_weighted: (test=0.838) recall_weighted: (test=0.828) total time=  29.0s\n",
      "[CV 1/1] END classifier__estimator__C=10, classifier__estimator__class_weight=balanced, classifier__estimator__fit_intercept=False, classifier__estimator__max_iter=200, classifier__estimator__penalty=None, classifier__estimator__solver=saga, classifier__estimator__tol=0.0001, vectorizer=CountVectorizer(token_pattern='(?u)\\\\b\\\\w+\\\\b'); accuracy: (test=0.086) f1_weighted: (test=0.838) precision_weighted: (test=0.846) recall_weighted: (test=0.837) total time=  29.9s\n",
      "[CV 1/1] END classifier__estimator__C=10, classifier__estimator__class_weight=balanced, classifier__estimator__fit_intercept=False, classifier__estimator__max_iter=200, classifier__estimator__penalty=None, classifier__estimator__solver=lbfgs, classifier__estimator__tol=0.0001, vectorizer=TfidfVectorizer(token_pattern='(?u)\\\\b\\\\w+\\\\b'); accuracy: (test=0.117) f1_weighted: (test=0.839) precision_weighted: (test=0.843) recall_weighted: (test=0.835) total time=   4.3s\n",
      "[CV 1/1] END classifier__estimator__C=10, classifier__estimator__class_weight=balanced, classifier__estimator__fit_intercept=False, classifier__estimator__max_iter=200, classifier__estimator__penalty=None, classifier__estimator__solver=lbfgs, classifier__estimator__tol=0.0001, vectorizer=CountVectorizer(token_pattern='(?u)\\\\b\\\\w+\\\\b'); accuracy: (test=0.098) f1_weighted: (test=0.831) precision_weighted: (test=0.837) recall_weighted: (test=0.826) total time=   4.8s\n",
      "[CV 1/1] END classifier__estimator__C=10, classifier__estimator__class_weight=balanced, classifier__estimator__fit_intercept=False, classifier__estimator__max_iter=200, classifier__estimator__penalty=l2, classifier__estimator__solver=saga, classifier__estimator__tol=0.0001, vectorizer=TfidfVectorizer(token_pattern='(?u)\\\\b\\\\w+\\\\b'); accuracy: (test=0.079) f1_weighted: (test=0.842) precision_weighted: (test=0.849) recall_weighted: (test=0.841) total time=  24.3s\n",
      "[CV 1/1] END classifier__estimator__C=10, classifier__estimator__class_weight=balanced, classifier__estimator__fit_intercept=False, classifier__estimator__max_iter=200, classifier__estimator__penalty=l2, classifier__estimator__solver=saga, classifier__estimator__tol=0.0001, vectorizer=CountVectorizer(token_pattern='(?u)\\\\b\\\\w+\\\\b'); accuracy: (test=0.086) f1_weighted: (test=0.838) precision_weighted: (test=0.845) recall_weighted: (test=0.837) total time=  30.0s\n",
      "[CV 1/1] END classifier__estimator__C=10, classifier__estimator__class_weight=balanced, classifier__estimator__fit_intercept=False, classifier__estimator__max_iter=200, classifier__estimator__penalty=l2, classifier__estimator__solver=lbfgs, classifier__estimator__tol=0.0001, vectorizer=TfidfVectorizer(token_pattern='(?u)\\\\b\\\\w+\\\\b'); accuracy: (test=0.119) f1_weighted: (test=0.846) precision_weighted: (test=0.852) recall_weighted: (test=0.844) total time=   2.2s\n",
      "[CV 1/1] END classifier__estimator__C=10, classifier__estimator__class_weight=balanced, classifier__estimator__fit_intercept=False, classifier__estimator__max_iter=200, classifier__estimator__penalty=l2, classifier__estimator__solver=lbfgs, classifier__estimator__tol=0.0001, vectorizer=CountVectorizer(token_pattern='(?u)\\\\b\\\\w+\\\\b'); accuracy: (test=0.085) f1_weighted: (test=0.834) precision_weighted: (test=0.841) recall_weighted: (test=0.830) total time=   4.9s\n"
     ]
    }
   ],
   "source": [
    "pipeline_chain_lr = Pipeline([\n",
    "    ('vectorizer', bigram_tfidf_vectorizer),\n",
    "    ('classifier', OneVsRestClassifier(LogisticRegression(random_state=42)))])\n",
    "\n",
    "param_grid_ovr_lr = {\n",
    "    'vectorizer': [bigram_tfidf_vectorizer, bigram_bow_vectorizer],\n",
    "    'classifier__estimator__solver': ['saga', 'lbfgs'],\n",
    "    'classifier__estimator__C': [0.1, 1, 10],\n",
    "    'classifier__estimator__penalty': [None, 'l2'],\n",
    "    'classifier__estimator__class_weight': [None, 'balanced'],\n",
    "    'classifier__estimator__max_iter': [100, 200],\n",
    "    'classifier__estimator__fit_intercept': [True, False],\n",
    "    'classifier__estimator__tol': [1e-4]}\n",
    "\n",
    "grid_search = GridSearchCV(\n",
    "    estimator=pipeline_chain_lr,\n",
    "    param_grid=param_grid_ovr_lr,\n",
    "    cv = predefined_split,\n",
    "    scoring=scores,\n",
    "    refit=\"f1_weighted\",\n",
    "    verbose=4)\n",
    "\n",
    "grid_result = grid_search.fit(X_train_full, y_train_full)"
   ]
  },
  {
   "cell_type": "code",
   "execution_count": 28,
   "metadata": {
    "colab": {
     "base_uri": "https://localhost:8080/"
    },
    "executionInfo": {
     "elapsed": 240,
     "status": "ok",
     "timestamp": 1734721842379,
     "user": {
      "displayName": "Teresa Simão",
      "userId": "13030875093447155013"
     },
     "user_tz": 0
    },
    "id": "3VXBeeITYM14",
    "outputId": "bfd517ed-cda8-4769-e4d6-840b55d88677"
   },
   "outputs": [
    {
     "name": "stdout",
     "output_type": "stream",
     "text": [
      "Best Parameters (Logistic Regression One Vs Rest):  {'classifier__estimator__C': 10, 'classifier__estimator__class_weight': None, 'classifier__estimator__fit_intercept': True, 'classifier__estimator__max_iter': 100, 'classifier__estimator__penalty': 'l2', 'classifier__estimator__solver': 'saga', 'classifier__estimator__tol': 0.0001, 'vectorizer': TfidfVectorizer(token_pattern='(?u)\\\\b\\\\w+\\\\b')}\n"
     ]
    }
   ],
   "source": [
    "print(\"Best Parameters (Logistic Regression One Vs Rest): \", grid_result.best_params_)"
   ]
  },
  {
   "cell_type": "code",
   "execution_count": 29,
   "metadata": {
    "colab": {
     "base_uri": "https://localhost:8080/"
    },
    "executionInfo": {
     "elapsed": 314,
     "status": "ok",
     "timestamp": 1734721842985,
     "user": {
      "displayName": "Teresa Simão",
      "userId": "13030875093447155013"
     },
     "user_tz": 0
    },
    "id": "pwi_7R_zYQkF",
    "outputId": "dabfbf1f-3bd2-4944-94be-1cf36429db54"
   },
   "outputs": [
    {
     "name": "stdout",
     "output_type": "stream",
     "text": [
      "Logistic Regression One Vs Rest: \n",
      "accuracy = 0.17\n",
      "Logistic Regression One Vs Rest: \n",
      "precision_weighted = 0.879\n",
      "Logistic Regression One Vs Rest: \n",
      "recall_weighted = 0.868\n",
      "Logistic Regression One Vs Rest: \n",
      "f1_weighted = 0.863\n"
     ]
    }
   ],
   "source": [
    "for score in scores:\n",
    "    mean_score = grid_result.cv_results_[f'mean_test_{score}'][grid_result.best_index_]\n",
    "    print(f\"Logistic Regression One Vs Rest: \\n{score} = {round(mean_score, 3)}\")"
   ]
  },
  {
   "cell_type": "markdown",
   "metadata": {
    "id": "Te9TP9HD-hpU"
   },
   "source": [
    "#### Classifier Chain"
   ]
  },
  {
   "cell_type": "code",
   "execution_count": null,
   "metadata": {},
   "outputs": [],
   "source": [
    "pipeline_chain_lr = Pipeline([\n",
    "    ('vectorizer', bigram_tfidf_vectorizer),\n",
    "    ('classifier', ClassifierChain(LogisticRegression(random_state=42)))])\n",
    "\n",
    "param_grid_chain_lr = {\n",
    "    'vectorizer': [bigram_tfidf_vectorizer, bigram_bow_vectorizer],\n",
    "    'classifier__order': [None, 'random'],\n",
    "\n",
    "    'classifier__base_estimator__solver': ['saga', 'lbfgs'],\n",
    "    'classifier__base_estimator__C': [1, 10],\n",
    "    'classifier__base_estimator__penalty': ['l2'],\n",
    "    'classifier__base_estimator__class_weight': [None, 'balanced'],\n",
    "    'classifier__base_estimator__max_iter': [100, 200],\n",
    "    'classifier__base_estimator__fit_intercept': [True],\n",
    "    'classifier__base_estimator__tol': [1e-4]}\n",
    "\n",
    "grid_search_chain = GridSearchCV(\n",
    "    estimator=pipeline_chain_lr,\n",
    "    param_grid=param_grid_chain_lr,\n",
    "    scoring=scores,\n",
    "    cv = predefined_split,\n",
    "    refit=\"f1_weighted\",\n",
    "    error_score='raise',\n",
    "    verbose=4)\n",
    "\n",
    "grid_result_chain = grid_search_chain.fit(X_train_full, y_train_full)"
   ]
  },
  {
   "cell_type": "code",
   "execution_count": null,
   "metadata": {
    "id": "CjZKlf9J5rni"
   },
   "outputs": [],
   "source": [
    "print(\"Best Parameters (Logistic Regression Classifier Chain): \", grid_result_chain.best_params_)"
   ]
  },
  {
   "cell_type": "code",
   "execution_count": null,
   "metadata": {
    "id": "Stg2nSma6PIs"
   },
   "outputs": [],
   "source": [
    "for score in scores:\n",
    "    mean_score = grid_result_chain.cv_results_[f'mean_test_{score}'][grid_result_chain.best_index_]\n",
    "    print(f\"Logistic Regression One Vs Rest: \\n{score} = {round(mean_score, 3)}\")"
   ]
  },
  {
   "cell_type": "code",
   "execution_count": null,
   "metadata": {
    "id": "MdG5DSmp6Svt"
   },
   "outputs": [],
   "source": []
  }
 ],
 "metadata": {
  "colab": {
   "authorship_tag": "ABX9TyOwrKEBAx3IqHPTJG/H4SGN",
   "mount_file_id": "17-VL_k8YOBycKz_nVay9mfwVjQC-MLjS",
   "provenance": []
  },
  "kernelspec": {
   "display_name": "Python 3",
   "name": "python3"
  },
  "language_info": {
   "name": "python"
  }
 },
 "nbformat": 4,
 "nbformat_minor": 0
}
