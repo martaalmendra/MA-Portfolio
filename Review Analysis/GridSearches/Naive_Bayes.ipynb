{
  "nbformat": 4,
  "nbformat_minor": 0,
  "metadata": {
    "colab": {
      "provenance": []
    },
    "kernelspec": {
      "name": "python3",
      "display_name": "Python 3"
    },
    "language_info": {
      "name": "python"
    }
  },
  "cells": [
    {
      "cell_type": "code",
      "execution_count": 1,
      "metadata": {
        "id": "ItHbN2Nnt5Xt"
      },
      "outputs": [],
      "source": [
        "#General Purpose\n",
        "import pandas as pd\n",
        "import numpy as np\n",
        "import string\n",
        "\n",
        "#Preprocessing\n",
        "from sklearn.feature_extraction.text import CountVectorizer, TfidfVectorizer\n",
        "\n",
        "#Classification and Metrics\n",
        "from sklearn.model_selection import GridSearchCV, train_test_split\n",
        "from sklearn.preprocessing import MultiLabelBinarizer\n",
        "from sklearn.multioutput import ClassifierChain\n",
        "from sklearn.linear_model import LogisticRegression\n",
        "from sklearn.pipeline import Pipeline\n",
        "from sklearn.ensemble import RandomForestClassifier\n",
        "from sklearn.tree import DecisionTreeClassifier\n",
        "from sklearn.multiclass import OneVsRestClassifier\n",
        "from sklearn.model_selection import PredefinedSplit\n",
        "from sklearn.metrics import classification_report, f1_score\n",
        "from sklearn import metrics\n",
        "\n",
        "%load_ext autoreload\n",
        "%autoreload 2\n",
        "import warnings\n",
        "warnings.filterwarnings('ignore')"
      ]
    },
    {
      "cell_type": "code",
      "source": [
        "from google.colab import drive\n",
        "drive.mount('/content/drive')"
      ],
      "metadata": {
        "colab": {
          "base_uri": "https://localhost:8080/"
        },
        "id": "tOcTwDpRurKX",
        "outputId": "7f733461-8814-4c40-912e-0356a0ccd83c"
      },
      "execution_count": 2,
      "outputs": [
        {
          "output_type": "stream",
          "name": "stdout",
          "text": [
            "Drive already mounted at /content/drive; to attempt to forcibly remount, call drive.mount(\"/content/drive\", force_remount=True).\n"
          ]
        }
      ]
    },
    {
      "cell_type": "code",
      "source": [
        "clean_reviews = pd.read_csv('/content/drive/MyDrive/Text Mining/PROJECT/modelling/clean_reviews_dataset.csv')"
      ],
      "metadata": {
        "id": "9D6-3Ti_uB9p"
      },
      "execution_count": 3,
      "outputs": []
    },
    {
      "cell_type": "code",
      "source": [
        "clean_reviews = clean_reviews.dropna(subset=['cleaned_reviews_reduced_words'])\n",
        "clean_reviews = clean_reviews[clean_reviews['cleaned_reviews_reduced_words'].apply(lambda x: len(str(x)) > 0)]"
      ],
      "metadata": {
        "id": "qj-Pj2gSuC14"
      },
      "execution_count": 4,
      "outputs": []
    },
    {
      "cell_type": "code",
      "source": [
        "mlb = MultiLabelBinarizer()\n",
        "binarised_labels = mlb.fit_transform(clean_reviews['Cuisines'])\n",
        "clean_reviews['labels'] = binarised_labels.tolist()"
      ],
      "metadata": {
        "id": "2wKFHGiIuCxH"
      },
      "execution_count": 5,
      "outputs": []
    },
    {
      "cell_type": "code",
      "source": [
        "X_train, X_test, y_train, y_test = train_test_split(\n",
        "    clean_reviews['cleaned_reviews_reduced_words'], binarised_labels, test_size=0.2, random_state=42, stratify=binarised_labels)\n",
        "\n",
        "X_train = np.array([str(x) for x in X_train])"
      ],
      "metadata": {
        "id": "MqXHmgsRuCtU"
      },
      "execution_count": 9,
      "outputs": []
    },
    {
      "cell_type": "code",
      "source": [
        "X_train, X_val, y_train, y_val = train_test_split(\n",
        "    X_train, y_train, test_size=0.2, random_state=42)"
      ],
      "metadata": {
        "id": "haP6KVYlG1zd"
      },
      "execution_count": 10,
      "outputs": []
    },
    {
      "cell_type": "code",
      "source": [
        "X_train_full = np.concatenate((X_train, X_val), axis=0)\n",
        "y_train_full = np.concatenate((y_train, y_val), axis=0)\n",
        "\n",
        "split_index = [-1] * len(X_train) + [0] * len(X_val)\n",
        "predefined_split = PredefinedSplit(test_fold=split_index)"
      ],
      "metadata": {
        "id": "Au93wL0dMcU6"
      },
      "execution_count": 13,
      "outputs": []
    },
    {
      "cell_type": "code",
      "source": [
        "bigram_tfidf_vectorizer = TfidfVectorizer(ngram_range=(1,1), token_pattern=r\"(?u)\\b\\w+\\b\")\n",
        "bigram_bow_vectorizer = CountVectorizer(ngram_range=(1,1), token_pattern=r\"(?u)\\b\\w+\\b\")"
      ],
      "metadata": {
        "id": "MIbJi-B6uLOF"
      },
      "execution_count": 14,
      "outputs": []
    },
    {
      "cell_type": "code",
      "source": [
        "scores = [\"accuracy\", \"precision_weighted\", \"recall_weighted\", \"f1_weighted\"]"
      ],
      "metadata": {
        "id": "brQuEPxJuN3W"
      },
      "execution_count": 15,
      "outputs": []
    },
    {
      "cell_type": "markdown",
      "source": [
        "#### One vs rest"
      ],
      "metadata": {
        "id": "GtDs-_dx_iik"
      }
    },
    {
      "cell_type": "code",
      "source": [
        "\n",
        "from sklearn.naive_bayes import MultinomialNB\n",
        "\n",
        "pipeline_nb = Pipeline([\n",
        "    ('vectorizer', bigram_tfidf_vectorizer),\n",
        "    ('classifier', OneVsRestClassifier(MultinomialNB()))])\n",
        "param_grid_nb = {\n",
        "    'vectorizer': [bigram_tfidf_vectorizer, bigram_bow_vectorizer],\n",
        "    'classifier__estimator__alpha': [0.1, 1, 10]}\n",
        "\n",
        "grid_search = GridSearchCV(\n",
        "    estimator=pipeline_nb,\n",
        "    param_grid=param_grid_nb,\n",
        "    cv=predefined_split,\n",
        "    scoring=scores,\n",
        "    refit=\"f1_weighted\",\n",
        "    verbose=4)\n",
        "\n",
        "grid_result = grid_search.fit(X_train_full, y_train_full)"
      ],
      "metadata": {
        "colab": {
          "base_uri": "https://localhost:8080/"
        },
        "id": "syTPeD-1uPic",
        "outputId": "184d5574-2da6-4642-dfd8-a6878e6d3914"
      },
      "execution_count": 16,
      "outputs": [
        {
          "output_type": "stream",
          "name": "stdout",
          "text": [
            "Fitting 1 folds for each of 6 candidates, totalling 6 fits\n",
            "[CV 1/1] END classifier__estimator__alpha=0.1, vectorizer=TfidfVectorizer(token_pattern='(?u)\\\\b\\\\w+\\\\b'); accuracy: (test=0.175) f1_weighted: (test=0.851) precision_weighted: (test=0.891) recall_weighted: (test=0.866) total time=   1.1s\n",
            "[CV 1/1] END classifier__estimator__alpha=0.1, vectorizer=CountVectorizer(token_pattern='(?u)\\\\b\\\\w+\\\\b'); accuracy: (test=0.202) f1_weighted: (test=0.877) precision_weighted: (test=0.876) recall_weighted: (test=0.882) total time=   1.1s\n",
            "[CV 1/1] END classifier__estimator__alpha=1, vectorizer=TfidfVectorizer(token_pattern='(?u)\\\\b\\\\w+\\\\b'); accuracy: (test=0.070) f1_weighted: (test=0.784) precision_weighted: (test=0.860) recall_weighted: (test=0.833) total time=   1.0s\n",
            "[CV 1/1] END classifier__estimator__alpha=1, vectorizer=CountVectorizer(token_pattern='(?u)\\\\b\\\\w+\\\\b'); accuracy: (test=0.169) f1_weighted: (test=0.866) precision_weighted: (test=0.883) recall_weighted: (test=0.876) total time=   0.8s\n",
            "[CV 1/1] END classifier__estimator__alpha=10, vectorizer=TfidfVectorizer(token_pattern='(?u)\\\\b\\\\w+\\\\b'); accuracy: (test=0.047) f1_weighted: (test=0.754) precision_weighted: (test=0.719) recall_weighted: (test=0.822) total time=   0.7s\n",
            "[CV 1/1] END classifier__estimator__alpha=10, vectorizer=CountVectorizer(token_pattern='(?u)\\\\b\\\\w+\\\\b'); accuracy: (test=0.077) f1_weighted: (test=0.783) precision_weighted: (test=0.854) recall_weighted: (test=0.834) total time=   0.6s\n"
          ]
        }
      ]
    },
    {
      "cell_type": "code",
      "source": [
        "print(\"Best Parameters (Naive Bayes One Vs Rest): \", grid_result.best_params_)"
      ],
      "metadata": {
        "colab": {
          "base_uri": "https://localhost:8080/"
        },
        "id": "HeWXfXsKuSui",
        "outputId": "30e2a094-274a-49c7-a222-4f456668c19a"
      },
      "execution_count": 19,
      "outputs": [
        {
          "output_type": "stream",
          "name": "stdout",
          "text": [
            "Best Parameters (Naive Bayes One Vs Rest):  {'classifier__estimator__alpha': 0.1, 'vectorizer': CountVectorizer(token_pattern='(?u)\\\\b\\\\w+\\\\b')}\n"
          ]
        }
      ]
    },
    {
      "cell_type": "code",
      "source": [
        "for score in scores:\n",
        "    mean_score = grid_result.cv_results_[f'mean_test_{score}'][grid_result.best_index_]\n",
        "    print(f\"Naive Bayes One Vs Rest: \\n{score} = {round(mean_score, 3)}\")"
      ],
      "metadata": {
        "colab": {
          "base_uri": "https://localhost:8080/"
        },
        "id": "tJzyfpRCuVIF",
        "outputId": "a7531631-eef5-4524-8c04-eda18ac18d50"
      },
      "execution_count": 20,
      "outputs": [
        {
          "output_type": "stream",
          "name": "stdout",
          "text": [
            "Naive Bayes One Vs Rest: \n",
            "accuracy = 0.202\n",
            "Naive Bayes One Vs Rest: \n",
            "precision_weighted = 0.876\n",
            "Naive Bayes One Vs Rest: \n",
            "recall_weighted = 0.882\n",
            "Naive Bayes One Vs Rest: \n",
            "f1_weighted = 0.877\n"
          ]
        }
      ]
    },
    {
      "cell_type": "markdown",
      "source": [
        "#### Classifier Chain"
      ],
      "metadata": {
        "id": "N8jC7oHY_8qQ"
      }
    },
    {
      "cell_type": "code",
      "source": [
        "pipeline_nb_cchain = Pipeline([\n",
        "    ('vectorizer', bigram_tfidf_vectorizer),\n",
        "    ('classifier', ClassifierChain(MultinomialNB()))])\n",
        "\n",
        "\n",
        "param_grid_cc = {'vectorizer': [bigram_tfidf_vectorizer, bigram_bow_vectorizer],\n",
        "    'classifier__order': [None, 'random'],\n",
        "    'classifier__base_estimator__alpha': [0.1, 1, 10] }\n",
        "\n",
        "\n",
        "grid_search = GridSearchCV(\n",
        "    estimator=pipeline_nb_cchain,\n",
        "    param_grid=param_grid_cc,\n",
        "    cv=predefined_split,\n",
        "    scoring=scores,\n",
        "    refit=\"f1_weighted\",\n",
        "    verbose=4)\n",
        "\n",
        "grid_result = grid_search.fit(X_train_full, y_train_full)"
      ],
      "metadata": {
        "colab": {
          "base_uri": "https://localhost:8080/"
        },
        "id": "WSw7pNW9vpIj",
        "outputId": "63936b46-f472-4b37-dc7f-b18321dac0ed"
      },
      "execution_count": 21,
      "outputs": [
        {
          "output_type": "stream",
          "name": "stdout",
          "text": [
            "Fitting 1 folds for each of 12 candidates, totalling 12 fits\n",
            "[CV 1/1] END classifier__base_estimator__alpha=0.1, classifier__order=None, vectorizer=TfidfVectorizer(token_pattern='(?u)\\\\b\\\\w+\\\\b'); accuracy: (test=0.175) f1_weighted: (test=0.854) precision_weighted: (test=0.877) recall_weighted: (test=0.873) total time=   1.5s\n",
            "[CV 1/1] END classifier__base_estimator__alpha=0.1, classifier__order=None, vectorizer=CountVectorizer(token_pattern='(?u)\\\\b\\\\w+\\\\b'); accuracy: (test=0.214) f1_weighted: (test=0.877) precision_weighted: (test=0.870) recall_weighted: (test=0.888) total time=   1.0s\n",
            "[CV 1/1] END classifier__base_estimator__alpha=0.1, classifier__order=random, vectorizer=TfidfVectorizer(token_pattern='(?u)\\\\b\\\\w+\\\\b'); accuracy: (test=0.181) f1_weighted: (test=0.852) precision_weighted: (test=0.880) recall_weighted: (test=0.875) total time=   1.0s\n",
            "[CV 1/1] END classifier__base_estimator__alpha=0.1, classifier__order=random, vectorizer=CountVectorizer(token_pattern='(?u)\\\\b\\\\w+\\\\b'); accuracy: (test=0.217) f1_weighted: (test=0.877) precision_weighted: (test=0.870) recall_weighted: (test=0.890) total time=   1.2s\n",
            "[CV 1/1] END classifier__base_estimator__alpha=1, classifier__order=None, vectorizer=TfidfVectorizer(token_pattern='(?u)\\\\b\\\\w+\\\\b'); accuracy: (test=0.070) f1_weighted: (test=0.774) precision_weighted: (test=0.831) recall_weighted: (test=0.832) total time=   1.4s\n",
            "[CV 1/1] END classifier__base_estimator__alpha=1, classifier__order=None, vectorizer=CountVectorizer(token_pattern='(?u)\\\\b\\\\w+\\\\b'); accuracy: (test=0.181) f1_weighted: (test=0.863) precision_weighted: (test=0.881) recall_weighted: (test=0.878) total time=   1.4s\n",
            "[CV 1/1] END classifier__base_estimator__alpha=1, classifier__order=random, vectorizer=TfidfVectorizer(token_pattern='(?u)\\\\b\\\\w+\\\\b'); accuracy: (test=0.071) f1_weighted: (test=0.773) precision_weighted: (test=0.828) recall_weighted: (test=0.832) total time=   1.3s\n",
            "[CV 1/1] END classifier__base_estimator__alpha=1, classifier__order=random, vectorizer=CountVectorizer(token_pattern='(?u)\\\\b\\\\w+\\\\b'); accuracy: (test=0.169) f1_weighted: (test=0.862) precision_weighted: (test=0.881) recall_weighted: (test=0.877) total time=   1.0s\n",
            "[CV 1/1] END classifier__base_estimator__alpha=10, classifier__order=None, vectorizer=TfidfVectorizer(token_pattern='(?u)\\\\b\\\\w+\\\\b'); accuracy: (test=0.047) f1_weighted: (test=0.753) precision_weighted: (test=0.702) recall_weighted: (test=0.822) total time=   1.0s\n",
            "[CV 1/1] END classifier__base_estimator__alpha=10, classifier__order=None, vectorizer=CountVectorizer(token_pattern='(?u)\\\\b\\\\w+\\\\b'); accuracy: (test=0.060) f1_weighted: (test=0.769) precision_weighted: (test=0.821) recall_weighted: (test=0.828) total time=   0.9s\n",
            "[CV 1/1] END classifier__base_estimator__alpha=10, classifier__order=random, vectorizer=TfidfVectorizer(token_pattern='(?u)\\\\b\\\\w+\\\\b'); accuracy: (test=0.047) f1_weighted: (test=0.753) precision_weighted: (test=0.702) recall_weighted: (test=0.822) total time=   0.9s\n",
            "[CV 1/1] END classifier__base_estimator__alpha=10, classifier__order=random, vectorizer=CountVectorizer(token_pattern='(?u)\\\\b\\\\w+\\\\b'); accuracy: (test=0.067) f1_weighted: (test=0.769) precision_weighted: (test=0.831) recall_weighted: (test=0.828) total time=   0.9s\n"
          ]
        }
      ]
    },
    {
      "cell_type": "code",
      "source": [
        "print(\"Best Parameters (Naive Bayes CChain:): \", grid_result.best_params_)"
      ],
      "metadata": {
        "colab": {
          "base_uri": "https://localhost:8080/"
        },
        "id": "Ir2DXGLxwd9p",
        "outputId": "1d621603-ed9a-4d8e-f7c2-a979fe94a1f1"
      },
      "execution_count": 22,
      "outputs": [
        {
          "output_type": "stream",
          "name": "stdout",
          "text": [
            "Best Parameters (Naive Bayes CChain:):  {'classifier__base_estimator__alpha': 0.1, 'classifier__order': 'random', 'vectorizer': CountVectorizer(token_pattern='(?u)\\\\b\\\\w+\\\\b')}\n"
          ]
        }
      ]
    },
    {
      "cell_type": "code",
      "source": [
        "for score in scores:\n",
        "    mean_score = grid_result.cv_results_[f'mean_test_{score}'][grid_result.best_index_]\n",
        "    print(f\"Naive Bayes CChain: \\n{score} = {round(mean_score, 3)}\")"
      ],
      "metadata": {
        "colab": {
          "base_uri": "https://localhost:8080/"
        },
        "id": "dRUVG3EswwVI",
        "outputId": "5e5bbcb2-46ec-44b5-ef42-6cdb69771935"
      },
      "execution_count": 23,
      "outputs": [
        {
          "output_type": "stream",
          "name": "stdout",
          "text": [
            "Naive Bayes CChain: \n",
            "accuracy = 0.217\n",
            "Naive Bayes CChain: \n",
            "precision_weighted = 0.87\n",
            "Naive Bayes CChain: \n",
            "recall_weighted = 0.89\n",
            "Naive Bayes CChain: \n",
            "f1_weighted = 0.877\n"
          ]
        }
      ]
    },
    {
      "cell_type": "code",
      "source": [],
      "metadata": {
        "id": "SjlkjjFUw4SS"
      },
      "execution_count": null,
      "outputs": []
    }
  ]
}